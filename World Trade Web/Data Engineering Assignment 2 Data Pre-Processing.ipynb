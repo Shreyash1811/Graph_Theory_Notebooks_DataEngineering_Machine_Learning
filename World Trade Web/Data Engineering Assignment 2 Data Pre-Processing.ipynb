{
 "cells": [
  {
   "cell_type": "markdown",
   "metadata": {},
   "source": [
    "# Data Engineering\n",
    "## NYU Tandon School of Engineering\n",
    "### Assignment 3 - Nine steps"
   ]
  },
  {
   "cell_type": "markdown",
   "metadata": {},
   "source": [
    "<a id=\"back\"></a>\n",
    "### Table of content:\n",
    "1) [1st step: Connecting to the Database](#conndb)\n",
    "\n",
    "2) [2nd step: SQL Query](#SQL)\n",
    "\n",
    "3) [3rd step: Change and save in local drive](#local)\n",
    "\n",
    "4) [4th step: access, search, and sanity checks](#step4)\n",
    "\n",
    "5) [5th step: Basic plotting using Seaborn and Matplotlib](#step5) \n",
    "\n",
    "6) [6th step: Dealing with Missing values](#step6)\n",
    "\n",
    "7) [7th step: Scaling and Normalization](#step7)\n",
    "\n",
    "8) [8th step: Categorical Data Encoding](#step8)\n",
    "\n",
    "9) [9th step: Dimension Reduction](#step9)\n",
    "\n"
   ]
  },
  {
   "cell_type": "code",
   "execution_count": 268,
   "metadata": {},
   "outputs": [],
   "source": [
    "# Importing the needed libraries \n",
    "import sqlite3\n",
    "import pandas as pd\n",
    "import seaborn as sns"
   ]
  },
  {
   "cell_type": "markdown",
   "metadata": {},
   "source": [
    "\n",
    "# 1. First step: connecting to a DB\n",
    "<a id='conndb'></a>"
   ]
  },
  {
   "cell_type": "code",
   "execution_count": 269,
   "metadata": {},
   "outputs": [
    {
     "name": "stdout",
     "output_type": "stream",
     "text": [
      "(1, 0.02731, 0.0, 7.07, 0.0, 0.469, 6.421, 78.9, 4.9671, 2.0, 242.0, 17.8, 396.9, 9.14, 21.6)\n"
     ]
    }
   ],
   "source": [
    "#database location in the local drive\n",
    "sqlite_file = 'C:/Users/shrey/OneDrive/Desktop/Data Engineering/Data_Source/boston.db' \n",
    "\n",
    "# connecting to the database file\n",
    "conn = sqlite3.connect(sqlite_file)\n",
    "\n",
    "# initialize a cursor obect\n",
    "cur = conn.cursor()\n",
    "\n",
    "# define a traversing search\n",
    "cur.execute(\"select * from boston limit 100;\")\n",
    "\n",
    "# fetch and print\n",
    "data = cur.fetchall()\n",
    "print(data[1])\n"
   ]
  },
  {
   "cell_type": "markdown",
   "metadata": {},
   "source": [
    "# 2. Second step: SQL Query \n",
    "<a id='SQL'></a>"
   ]
  },
  {
   "cell_type": "code",
   "execution_count": 270,
   "metadata": {},
   "outputs": [
    {
     "name": "stdout",
     "output_type": "stream",
     "text": [
      "[(18.0,), (12.5,), (12.5,), (12.5,), (12.5,), (12.5,), (12.5,), (12.5,), (75.0,), (75.0,), (21.0,), (21.0,), (21.0,), (21.0,), (75.0,), (90.0,), (85.0,), (100.0,), (25.0,), (25.0,), (25.0,), (25.0,), (25.0,), (25.0,), (17.5,), (80.0,), (80.0,), (12.5,), (12.5,), (12.5,), (25.0,), (25.0,), (25.0,), (25.0,), (28.0,), (28.0,), (28.0,), (45.0,), (45.0,), (45.0,), (45.0,), (45.0,), (45.0,), (60.0,), (60.0,), (80.0,), (80.0,), (80.0,), (80.0,), (95.0,), (95.0,), (82.5,), (82.5,), (95.0,), (95.0,), (30.0,), (30.0,), (30.0,), (30.0,), (30.0,), (30.0,), (22.0,), (22.0,), (22.0,), (22.0,), (22.0,), (22.0,), (22.0,), (22.0,), (22.0,), (22.0,), (80.0,), (80.0,), (90.0,), (20.0,), (20.0,), (20.0,), (20.0,), (20.0,), (20.0,), (20.0,), (20.0,), (20.0,), (20.0,), (20.0,), (20.0,), (20.0,), (20.0,), (20.0,), (20.0,), (20.0,), (40.0,), (40.0,), (40.0,), (40.0,), (40.0,), (20.0,), (20.0,), (20.0,), (20.0,), (90.0,), (90.0,), (55.0,), (80.0,), (52.5,), (52.5,), (52.5,), (80.0,), (80.0,), (80.0,), (70.0,), (70.0,), (70.0,), (34.0,), (34.0,), (34.0,), (33.0,), (33.0,), (33.0,), (33.0,), (35.0,), (35.0,), (35.0,), (55.0,), (55.0,), (85.0,), (80.0,), (40.0,), (40.0,), (60.0,), (60.0,), (90.0,), (80.0,), (80.0,)]\n"
     ]
    }
   ],
   "source": [
    "# SQL Query with condition statements \n",
    "cur.execute(\"select ZN from boston where ZN > 0.0;\")\n",
    "data = cur.fetchall()\n",
    "print(data)"
   ]
  },
  {
   "cell_type": "markdown",
   "metadata": {},
   "source": [
    "### *Now, let's first duplicate our original query for the entire table, which was limited to 100 rows.* "
   ]
  },
  {
   "cell_type": "code",
   "execution_count": 271,
   "metadata": {},
   "outputs": [
    {
     "name": "stdout",
     "output_type": "stream",
     "text": [
      "df.shape = (100, 15)\n"
     ]
    }
   ],
   "source": [
    "\n",
    "# get all data inside boston table limited to 100 rows\n",
    "df = pd.read_sql_query(\"select * from boston limit 100;\", conn)\n",
    "print(\"df.shape = \" + str(df.shape))\n"
   ]
  },
  {
   "cell_type": "markdown",
   "metadata": {},
   "source": [
    "### Now, let's grab the whole table and use pandas to sanity check with the head() method and print the summary"
   ]
  },
  {
   "cell_type": "code",
   "execution_count": 272,
   "metadata": {},
   "outputs": [
    {
     "name": "stdout",
     "output_type": "stream",
     "text": [
      "df.shape = (506, 15)\n",
      "\n",
      " Sanity check with Pandas head():\n",
      "   record     CRIM    ZN  INDUS  CHAS    NOX     RM   AGE     DIS  RAD    TAX  \\\n",
      "0       0  0.00632  18.0   2.31   0.0  0.538  6.575  65.2  4.0900  1.0  296.0   \n",
      "1       1  0.02731   0.0   7.07   0.0  0.469  6.421  78.9  4.9671  2.0  242.0   \n",
      "2       2  0.02729   0.0   7.07   0.0  0.469  7.185  61.1  4.9671  2.0  242.0   \n",
      "3       3  0.03237   0.0   2.18   0.0  0.458  6.998  45.8  6.0622  3.0  222.0   \n",
      "4       4  0.06905   0.0   2.18   0.0  0.458  7.147  54.2  6.0622  3.0  222.0   \n",
      "\n",
      "   PTRATIO       B  LSTAT  MEDV  \n",
      "0     15.3  396.90   4.98  24.0  \n",
      "1     17.8  396.90   9.14  21.6  \n",
      "2     17.8  392.83   4.03  34.7  \n",
      "3     18.7  394.63   2.94  33.4  \n",
      "4     18.7  396.90   5.33  36.2  \n",
      "\n",
      " Summarize with Pandas describe():\n",
      "         count        mean         std        min         25%        50%  \\\n",
      "record   506.0  252.500000  146.213884    0.00000  126.250000  252.50000   \n",
      "CRIM     506.0    3.593761    8.596783    0.00632    0.082045    0.25651   \n",
      "ZN       506.0   11.363636   23.322453    0.00000    0.000000    0.00000   \n",
      "INDUS    506.0   11.136779    6.860353    0.46000    5.190000    9.69000   \n",
      "CHAS     506.0    0.069170    0.253994    0.00000    0.000000    0.00000   \n",
      "NOX      506.0    0.554695    0.115878    0.38500    0.449000    0.53800   \n",
      "RM       506.0    6.284634    0.702617    3.56100    5.885500    6.20850   \n",
      "AGE      506.0   68.574901   28.148861    2.90000   45.025000   77.50000   \n",
      "DIS      506.0    3.795043    2.105710    1.12960    2.100175    3.20745   \n",
      "RAD      506.0    9.549407    8.707259    1.00000    4.000000    5.00000   \n",
      "TAX      506.0  408.237154  168.537116  187.00000  279.000000  330.00000   \n",
      "PTRATIO  506.0   18.455534    2.164946   12.60000   17.400000   19.05000   \n",
      "B        506.0  356.674032   91.294864    0.32000  375.377500  391.44000   \n",
      "LSTAT    506.0   12.653063    7.141062    1.73000    6.950000   11.36000   \n",
      "MEDV     506.0   22.532806    9.197104    5.00000   17.025000   21.20000   \n",
      "\n",
      "                75%       max  \n",
      "record   378.750000  505.0000  \n",
      "CRIM       3.647423   88.9762  \n",
      "ZN        12.500000  100.0000  \n",
      "INDUS     18.100000   27.7400  \n",
      "CHAS       0.000000    1.0000  \n",
      "NOX        0.624000    0.8710  \n",
      "RM         6.623500    8.7800  \n",
      "AGE       94.075000  100.0000  \n",
      "DIS        5.188425   12.1265  \n",
      "RAD       24.000000   24.0000  \n",
      "TAX      666.000000  711.0000  \n",
      "PTRATIO   20.200000   22.0000  \n",
      "B        396.225000  396.9000  \n",
      "LSTAT     16.955000   37.9700  \n",
      "MEDV      25.000000   50.0000  \n"
     ]
    }
   ],
   "source": [
    "# Read entire table from the the database\n",
    "df = pd.read_sql_query(\"select * from boston;\", conn)\n",
    "print(\"df.shape = \" + str(df.shape))\n",
    "print(\"\\n Sanity check with Pandas head():\")\n",
    "print(df.head())\n",
    "print(\"\\n Summarize with Pandas describe():\")\n",
    "print(df.describe().transpose())\n"
   ]
  },
  {
   "cell_type": "code",
   "execution_count": 273,
   "metadata": {},
   "outputs": [
    {
     "name": "stdout",
     "output_type": "stream",
     "text": [
      "df.shape for ZN is positive = (134, 15)\n",
      "df.shape for ZN is pocsitive and record more than 250 = (66, 15)\n"
     ]
    }
   ],
   "source": [
    "# get all data inside boston table that has ZN values greater 0\n",
    "df = pd.read_sql_query(\"select * from boston where ZN > 0.0;\", conn)\n",
    "print(\"df.shape for ZN is positive = \" + str(df.shape))\n",
    "\n",
    "# Same as above with additional filtering: records greater than 250\n",
    "df = pd.read_sql_query(\"select * from boston where ZN > 0.0 and record > 250;\", conn)\n",
    "print(\"df.shape for ZN is pocsitive and record more than 250 = \" + str(df.shape))\n"
   ]
  },
  {
   "cell_type": "code",
   "execution_count": 274,
   "metadata": {},
   "outputs": [
    {
     "name": "stdout",
     "output_type": "stream",
     "text": [
      "df.shape for multiline search : (134, 4)\n"
     ]
    }
   ],
   "source": [
    "# This is an example of multiline search syntax\n",
    "df = pd.read_sql_query(\"\"\"\n",
    "                       select record, ZN, AGE, TAX from boston\n",
    "                       where ZN > 0.0 and CRIM < 2.5;\n",
    "                       \"\"\",\n",
    "                       conn)\n",
    "\n",
    "print(\"df.shape for multiline search :\", df.shape)"
   ]
  },
  {
   "cell_type": "code",
   "execution_count": 275,
   "metadata": {},
   "outputs": [],
   "source": [
    "# use Pandas 'to_sql' method to commit changes to connection\n",
    "df.to_sql(\"C:/Users/shrey/OneDrive/Desktop/Data Engineering/Data_Source/boston_updated\", conn, if_exists=\"replace\")\n",
    "# close connection\n",
    "conn.close()"
   ]
  },
  {
   "cell_type": "markdown",
   "metadata": {},
   "source": [
    "## [Back to Table of content](#back)"
   ]
  },
  {
   "cell_type": "markdown",
   "metadata": {},
   "source": [
    "# 3. Third step: change and save to local disks\n",
    "<a id='local'></a>"
   ]
  },
  {
   "cell_type": "code",
   "execution_count": 278,
   "metadata": {},
   "outputs": [],
   "source": [
    "# Import libraries\n",
    "from sklearn.datasets import load_iris\n",
    "# Load Iris dataset\n",
    "data = load_iris()\n",
    "# Convert Dataset array to Dataframe\n",
    "df = pd.DataFrame(data.data,columns=data.feature_names)"
   ]
  },
  {
   "cell_type": "code",
   "execution_count": 279,
   "metadata": {},
   "outputs": [
    {
     "name": "stdout",
     "output_type": "stream",
     "text": [
      "        sepal length (cm)  sepal width (cm)  petal length (cm)  \\\n",
      "record                                                           \n",
      "0                     5.1               3.5                1.4   \n",
      "1                     4.9               3.0                1.4   \n",
      "2                     4.7               3.2                1.3   \n",
      "3                     4.6               3.1                1.5   \n",
      "4                     5.0               3.6                1.4   \n",
      "\n",
      "        petal width (cm)      species  \n",
      "record                                 \n",
      "0                    0.2  new-species  \n",
      "1                    0.2  new-species  \n",
      "2                    0.2  new-species  \n",
      "3                    0.2  new-species  \n",
      "4                    0.2  new-species  \n",
      "\n",
      " Shape of the DF: (150, 5)\n"
     ]
    }
   ],
   "source": [
    "# create an index\n",
    "df.index.name = \"record\"\n",
    "\n",
    "# Creating species column \n",
    "df['species'] = \"new-species\"\n",
    "print(df.head())\n",
    "\n",
    "print(\"\\n Shape of the DF:\",df.shape)"
   ]
  },
  {
   "cell_type": "code",
   "execution_count": 280,
   "metadata": {},
   "outputs": [],
   "source": [
    "# save to file\n",
    "df.to_csv(\"C:/Users/shrey/OneDrive/Desktop/Data Engineering/Data_Source/iris_updated.csv\", index=True) \n"
   ]
  },
  {
   "cell_type": "markdown",
   "metadata": {},
   "source": [
    "## [Back to Table of content](#back)"
   ]
  },
  {
   "cell_type": "markdown",
   "metadata": {},
   "source": [
    "# 4th step: access, search, and sanity checks\n",
    "<a id =\"step4\"></a>"
   ]
  },
  {
   "cell_type": "code",
   "execution_count": 284,
   "metadata": {},
   "outputs": [],
   "source": [
    "\n",
    "#load the data from the included boston.db file, as follows:\n",
    "\n",
    "sqlite_file = 'C:/Users/shrey/OneDrive/Desktop/Data Engineering/Data_Source/boston.db' \n",
    "# Connecting to the database file\n",
    "conn = sqlite3.connect(sqlite_file)"
   ]
  },
  {
   "cell_type": "code",
   "execution_count": 285,
   "metadata": {},
   "outputs": [
    {
     "name": "stdout",
     "output_type": "stream",
     "text": [
      "df.shape = (506, 15)\n"
     ]
    }
   ],
   "source": [
    "# Select Entire Boston Table\n",
    "df = pd.read_sql_query(\"select * from boston;\", conn)\n",
    "print(\"df.shape = \" + str(df.shape))\n",
    "\n",
    "df.set_index(\"record\", inplace=True)\n",
    "conn.close()"
   ]
  },
  {
   "cell_type": "code",
   "execution_count": 288,
   "metadata": {
    "scrolled": false
   },
   "outputs": [
    {
     "name": "stdout",
     "output_type": "stream",
     "text": [
      "Preview of Boston DataFrame: \n",
      "            CRIM    ZN  INDUS  CHAS    NOX     RM   AGE     DIS  RAD    TAX  \\\n",
      "record                                                                       \n",
      "0       0.00632  18.0   2.31   0.0  0.538  6.575  65.2  4.0900  1.0  296.0   \n",
      "1       0.02731   0.0   7.07   0.0  0.469  6.421  78.9  4.9671  2.0  242.0   \n",
      "2       0.02729   0.0   7.07   0.0  0.469  7.185  61.1  4.9671  2.0  242.0   \n",
      "3       0.03237   0.0   2.18   0.0  0.458  6.998  45.8  6.0622  3.0  222.0   \n",
      "4       0.06905   0.0   2.18   0.0  0.458  7.147  54.2  6.0622  3.0  222.0   \n",
      "\n",
      "        PTRATIO       B  LSTAT  MEDV  \n",
      "record                                \n",
      "0          15.3  396.90   4.98  24.0  \n",
      "1          17.8  396.90   9.14  21.6  \n",
      "2          17.8  392.83   4.03  34.7  \n",
      "3          18.7  394.63   2.94  33.4  \n",
      "4          18.7  396.90   5.33  36.2  \n",
      "\n",
      " Shape: \n",
      " (506, 14)\n",
      "\n",
      " Columns: \n",
      " Index(['CRIM', 'ZN', 'INDUS', 'CHAS', 'NOX', 'RM', 'AGE', 'DIS', 'RAD', 'TAX',\n",
      "       'PTRATIO', 'B', 'LSTAT', 'MEDV'],\n",
      "      dtype='object')\n"
     ]
    }
   ],
   "source": [
    "# Some more sanity checks: print first 5 rows with column names\n",
    "print(\"Preview of Boston DataFrame: \\n\",df.head())\n",
    "\n",
    "# Let's use some more sanity checks to understand more about the data: \n",
    "# get amount of rows and columns\n",
    "print(\"\\n Shape: \\n\",df.shape)\n",
    "# get column names in the dataframe\n",
    "print(\"\\n Columns: \\n\",df.columns)"
   ]
  },
  {
   "cell_type": "markdown",
   "metadata": {},
   "source": [
    "### Statistical summary:"
   ]
  },
  {
   "cell_type": "code",
   "execution_count": 289,
   "metadata": {},
   "outputs": [
    {
     "name": "stdout",
     "output_type": "stream",
     "text": [
      "         count        mean         std        min         25%        50%  \\\n",
      "CRIM     506.0    3.593761    8.596783    0.00632    0.082045    0.25651   \n",
      "ZN       506.0   11.363636   23.322453    0.00000    0.000000    0.00000   \n",
      "INDUS    506.0   11.136779    6.860353    0.46000    5.190000    9.69000   \n",
      "CHAS     506.0    0.069170    0.253994    0.00000    0.000000    0.00000   \n",
      "NOX      506.0    0.554695    0.115878    0.38500    0.449000    0.53800   \n",
      "RM       506.0    6.284634    0.702617    3.56100    5.885500    6.20850   \n",
      "AGE      506.0   68.574901   28.148861    2.90000   45.025000   77.50000   \n",
      "DIS      506.0    3.795043    2.105710    1.12960    2.100175    3.20745   \n",
      "RAD      506.0    9.549407    8.707259    1.00000    4.000000    5.00000   \n",
      "TAX      506.0  408.237154  168.537116  187.00000  279.000000  330.00000   \n",
      "PTRATIO  506.0   18.455534    2.164946   12.60000   17.400000   19.05000   \n",
      "B        506.0  356.674032   91.294864    0.32000  375.377500  391.44000   \n",
      "LSTAT    506.0   12.653063    7.141062    1.73000    6.950000   11.36000   \n",
      "MEDV     506.0   22.532806    9.197104    5.00000   17.025000   21.20000   \n",
      "\n",
      "                75%       max  \n",
      "CRIM       3.647423   88.9762  \n",
      "ZN        12.500000  100.0000  \n",
      "INDUS     18.100000   27.7400  \n",
      "CHAS       0.000000    1.0000  \n",
      "NOX        0.624000    0.8710  \n",
      "RM         6.623500    8.7800  \n",
      "AGE       94.075000  100.0000  \n",
      "DIS        5.188425   12.1265  \n",
      "RAD       24.000000   24.0000  \n",
      "TAX      666.000000  711.0000  \n",
      "PTRATIO   20.200000   22.0000  \n",
      "B        396.225000  396.9000  \n",
      "LSTAT     16.955000   37.9700  \n",
      "MEDV      25.000000   50.0000  \n"
     ]
    }
   ],
   "source": [
    "\n",
    "# view in transposed form\n",
    "print(df.describe().transpose())"
   ]
  },
  {
   "cell_type": "markdown",
   "metadata": {},
   "source": [
    "### Let's use .min(), .max(), .mean(), and .median() methods as well:"
   ]
  },
  {
   "cell_type": "code",
   "execution_count": 290,
   "metadata": {},
   "outputs": [
    {
     "name": "stdout",
     "output_type": "stream",
     "text": [
      "Max : CRIM        88.9762\n",
      "ZN         100.0000\n",
      "INDUS       27.7400\n",
      "CHAS         1.0000\n",
      "NOX          0.8710\n",
      "RM           8.7800\n",
      "AGE        100.0000\n",
      "DIS         12.1265\n",
      "RAD         24.0000\n",
      "TAX        711.0000\n",
      "PTRATIO     22.0000\n",
      "B          396.9000\n",
      "LSTAT       37.9700\n",
      "MEDV        50.0000\n",
      "dtype: float64\n",
      "Min : CRIM         0.00632\n",
      "ZN           0.00000\n",
      "INDUS        0.46000\n",
      "CHAS         0.00000\n",
      "NOX          0.38500\n",
      "RM           3.56100\n",
      "AGE          2.90000\n",
      "DIS          1.12960\n",
      "RAD          1.00000\n",
      "TAX        187.00000\n",
      "PTRATIO     12.60000\n",
      "B            0.32000\n",
      "LSTAT        1.73000\n",
      "MEDV         5.00000\n",
      "dtype: float64\n",
      "mean : CRIM         3.593761\n",
      "ZN          11.363636\n",
      "INDUS       11.136779\n",
      "CHAS         0.069170\n",
      "NOX          0.554695\n",
      "RM           6.284634\n",
      "AGE         68.574901\n",
      "DIS          3.795043\n",
      "RAD          9.549407\n",
      "TAX        408.237154\n",
      "PTRATIO     18.455534\n",
      "B          356.674032\n",
      "LSTAT       12.653063\n",
      "MEDV        22.532806\n",
      "dtype: float64\n",
      "Median : CRIM         0.25651\n",
      "ZN           0.00000\n",
      "INDUS        9.69000\n",
      "CHAS         0.00000\n",
      "NOX          0.53800\n",
      "RM           6.20850\n",
      "AGE         77.50000\n",
      "DIS          3.20745\n",
      "RAD          5.00000\n",
      "TAX        330.00000\n",
      "PTRATIO     19.05000\n",
      "B          391.44000\n",
      "LSTAT       11.36000\n",
      "MEDV        21.20000\n",
      "dtype: float64\n"
     ]
    }
   ],
   "source": [
    "# get max and min values\n",
    "print(\"Max :\",df.max())\n",
    "print(\"Min :\",df.min())\n",
    "print(\"mean :\", df.mean())\n",
    "print(\"Median :\",df.median())"
   ]
  },
  {
   "cell_type": "markdown",
   "metadata": {},
   "source": [
    "### Now, let's get the index of the maximum and minimum values using the .idmax() and .idmin():\n",
    "### *These methods give index number of the Max or Min value in the column*"
   ]
  },
  {
   "cell_type": "code",
   "execution_count": 291,
   "metadata": {},
   "outputs": [
    {
     "name": "stdout",
     "output_type": "stream",
     "text": [
      "Index of max: CRIM       380\n",
      "ZN          57\n",
      "INDUS      488\n",
      "CHAS       142\n",
      "NOX        142\n",
      "RM         364\n",
      "AGE          8\n",
      "DIS        353\n",
      "RAD        356\n",
      "TAX        488\n",
      "PTRATIO    354\n",
      "B            0\n",
      "LSTAT      374\n",
      "MEDV       161\n",
      "dtype: int64\n",
      "\n",
      " Index of min: CRIM         0\n",
      "ZN           1\n",
      "INDUS      195\n",
      "CHAS         0\n",
      "NOX        286\n",
      "RM         365\n",
      "AGE         41\n",
      "DIS        372\n",
      "RAD          0\n",
      "TAX        353\n",
      "PTRATIO    196\n",
      "B          450\n",
      "LSTAT      161\n",
      "MEDV       398\n",
      "dtype: int64\n"
     ]
    }
   ],
   "source": [
    "\n",
    "# get index of max and min values\n",
    "print(\"Index of max:\",df.idxmax())\n",
    "print(\"\\n Index of min:\",df.idxmin())\n",
    "\n"
   ]
  },
  {
   "cell_type": "code",
   "execution_count": 294,
   "metadata": {},
   "outputs": [
    {
     "name": "stdout",
     "output_type": "stream",
     "text": [
      "row 0: \n",
      " CRIM         0.00632\n",
      "ZN          18.00000\n",
      "INDUS        2.31000\n",
      "CHAS         0.00000\n",
      "NOX          0.53800\n",
      "RM           6.57500\n",
      "AGE         65.20000\n",
      "DIS          4.09000\n",
      "RAD          1.00000\n",
      "TAX        296.00000\n",
      "PTRATIO     15.30000\n",
      "B          396.90000\n",
      "LSTAT        4.98000\n",
      "MEDV        24.00000\n",
      "Name: 0, dtype: float64\n",
      "row 2: \n",
      " CRIM         0.02729\n",
      "ZN           0.00000\n",
      "INDUS        7.07000\n",
      "CHAS         0.00000\n",
      "NOX          0.46900\n",
      "RM           7.18500\n",
      "AGE         61.10000\n",
      "DIS          4.96710\n",
      "RAD          2.00000\n",
      "TAX        242.00000\n",
      "PTRATIO     17.80000\n",
      "B          392.83000\n",
      "LSTAT        4.03000\n",
      "MEDV        34.70000\n",
      "Name: 2, dtype: float64\n",
      "\n",
      " \n",
      " Row 0 column CRIM:  0.00632\n"
     ]
    }
   ],
   "source": [
    "# Additionally, we can get specific rows with ease:\n",
    "# get first row of data (index=0)\n",
    "print(\"row 0: \\n\",df.loc[0])\n",
    "# get third row of data (index=2)\n",
    "print(\"row 2: \\n\",df.loc[2])\n",
    "# print(df.loc[2])\n",
    "# get first row of CRIM column\n",
    "print(\"\\n \\n Row 0 column CRIM: \",df.loc[0]['CRIM'])"
   ]
  },
  {
   "cell_type": "code",
   "execution_count": 298,
   "metadata": {},
   "outputs": [
    {
     "name": "stdout",
     "output_type": "stream",
     "text": [
      "Index of minimum value in Age Column:  41\n"
     ]
    }
   ],
   "source": [
    "# We can also isolate single columns, as follows:\n",
    "# isolate single columns\n",
    "df['AGE'].mean()\n",
    "print(\"Index of minimum value in Age Column: \",df['AGE'].idxmin())"
   ]
  },
  {
   "cell_type": "markdown",
   "metadata": {},
   "source": [
    "### We can even sort DataFrames according to specific columns:"
   ]
  },
  {
   "cell_type": "code",
   "execution_count": 299,
   "metadata": {},
   "outputs": [
    {
     "name": "stdout",
     "output_type": "stream",
     "text": [
      "Sorted by descending order of ZN: \n",
      "            CRIM     ZN  INDUS  CHAS     NOX     RM   AGE     DIS  RAD    TAX  \\\n",
      "record                                                                         \n",
      "57      0.01432  100.0   1.32   0.0  0.4110  6.816  40.5  8.3248  5.0  256.0   \n",
      "204     0.02009   95.0   2.68   0.0  0.4161  8.034  31.9  5.1180  4.0  224.0   \n",
      "203     0.03510   95.0   2.68   0.0  0.4161  7.853  33.2  5.1180  4.0  224.0   \n",
      "200     0.01778   95.0   1.47   0.0  0.4030  7.135  13.9  7.6534  3.0  402.0   \n",
      "199     0.03150   95.0   1.47   0.0  0.4030  6.975  15.3  7.6534  3.0  402.0   \n",
      "\n",
      "        PTRATIO       B  LSTAT  MEDV  \n",
      "record                                \n",
      "57         15.1  392.90   3.95  31.6  \n",
      "204        14.7  390.55   2.88  50.0  \n",
      "203        14.7  392.78   3.81  48.5  \n",
      "200        17.0  384.30   4.45  32.9  \n",
      "199        17.0  396.90   4.56  34.9  \n"
     ]
    }
   ],
   "source": [
    "# sort (ascending by default)\n",
    "df.sort_values(by = 'ZN')\n",
    "# sort descending\n",
    "df.sort_values(by = 'ZN', ascending = False)\n",
    "print(\"Sorted by descending order of ZN: \\n\",df.sort_values(by = 'ZN', ascending = False).head())"
   ]
  },
  {
   "cell_type": "markdown",
   "metadata": {},
   "source": [
    "### Now, let's do a permanent sort on the table with the inplace argument, permanently changing how it's stored in memory:\n",
    "*Caution : Once permanent sort is done it cant be undone if index column wasnt created*"
   ]
  },
  {
   "cell_type": "code",
   "execution_count": 303,
   "metadata": {},
   "outputs": [
    {
     "name": "stdout",
     "output_type": "stream",
     "text": [
      "Sorting orignal df permanently: \n",
      "             CRIM   ZN  INDUS  CHAS    NOX     RM    AGE     DIS   RAD    TAX  \\\n",
      "record                                                                         \n",
      "505      0.04741  0.0  11.93   0.0  0.573  6.030   80.8  2.5050   1.0  273.0   \n",
      "439      9.39063  0.0  18.10   0.0  0.740  5.627   93.9  1.8172  24.0  666.0   \n",
      "440     22.05110  0.0  18.10   0.0  0.740  5.818   92.4  1.8662  24.0  666.0   \n",
      "441      9.72418  0.0  18.10   0.0  0.740  6.406   97.2  2.0651  24.0  666.0   \n",
      "442      5.66637  0.0  18.10   0.0  0.740  6.219  100.0  2.0048  24.0  666.0   \n",
      "\n",
      "        PTRATIO       B  LSTAT  MEDV  \n",
      "record                                \n",
      "505        21.0  396.90   7.88  11.9  \n",
      "439        20.2  396.90  22.88  12.8  \n",
      "440        20.2  391.45  22.11  10.5  \n",
      "441        20.2  385.96  19.52  17.1  \n",
      "442        20.2  395.69  16.59  18.4  \n"
     ]
    }
   ],
   "source": [
    "\n",
    "# permanently sort the table\n",
    "df.sort_values(by = 'ZN', inplace=True)\n",
    "# now call df.head() on permanently sorted table\n",
    "print(\"Sorting orignal df permanently: \\n\",df.head())"
   ]
  },
  {
   "cell_type": "markdown",
   "metadata": {},
   "source": [
    "### In case we change our minds and want to undo the permanent sort, we can sort according to the original index column and get our original data back:"
   ]
  },
  {
   "cell_type": "code",
   "execution_count": 304,
   "metadata": {
    "scrolled": false
   },
   "outputs": [
    {
     "name": "stdout",
     "output_type": "stream",
     "text": [
      "Sorting orignal df permanently: \n",
      "            CRIM    ZN  INDUS  CHAS    NOX     RM   AGE     DIS  RAD    TAX  \\\n",
      "record                                                                       \n",
      "0       0.00632  18.0   2.31   0.0  0.538  6.575  65.2  4.0900  1.0  296.0   \n",
      "1       0.02731   0.0   7.07   0.0  0.469  6.421  78.9  4.9671  2.0  242.0   \n",
      "2       0.02729   0.0   7.07   0.0  0.469  7.185  61.1  4.9671  2.0  242.0   \n",
      "3       0.03237   0.0   2.18   0.0  0.458  6.998  45.8  6.0622  3.0  222.0   \n",
      "4       0.06905   0.0   2.18   0.0  0.458  7.147  54.2  6.0622  3.0  222.0   \n",
      "\n",
      "        PTRATIO       B  LSTAT  MEDV  \n",
      "record                                \n",
      "0          15.3  396.90   4.98  24.0  \n",
      "1          17.8  396.90   9.14  21.6  \n",
      "2          17.8  392.83   4.03  34.7  \n",
      "3          18.7  394.63   2.94  33.4  \n",
      "4          18.7  396.90   5.33  36.2  \n"
     ]
    }
   ],
   "source": [
    "# sort back on index\n",
    "df.sort_values(by = 'record', inplace=True)\n",
    "print(\"Sorting orignal df permanently: \\n\",df.head())"
   ]
  },
  {
   "cell_type": "markdown",
   "metadata": {},
   "source": [
    "### *As a final example, let's chain together a couple of filters and use the .describe() method for some summary statistics of the smaller,* \n",
    "## Filtered dataset: "
   ]
  },
  {
   "cell_type": "code",
   "execution_count": 305,
   "metadata": {},
   "outputs": [
    {
     "data": {
      "text/html": [
       "<div>\n",
       "<style scoped>\n",
       "    .dataframe tbody tr th:only-of-type {\n",
       "        vertical-align: middle;\n",
       "    }\n",
       "\n",
       "    .dataframe tbody tr th {\n",
       "        vertical-align: top;\n",
       "    }\n",
       "\n",
       "    .dataframe thead th {\n",
       "        text-align: right;\n",
       "    }\n",
       "</style>\n",
       "<table border=\"1\" class=\"dataframe\">\n",
       "  <thead>\n",
       "    <tr style=\"text-align: right;\">\n",
       "      <th></th>\n",
       "      <th>count</th>\n",
       "      <th>mean</th>\n",
       "      <th>std</th>\n",
       "      <th>min</th>\n",
       "      <th>25%</th>\n",
       "      <th>50%</th>\n",
       "      <th>75%</th>\n",
       "      <th>max</th>\n",
       "    </tr>\n",
       "  </thead>\n",
       "  <tbody>\n",
       "    <tr>\n",
       "      <th>CRIM</th>\n",
       "      <td>111.0</td>\n",
       "      <td>9.131193</td>\n",
       "      <td>12.525663</td>\n",
       "      <td>0.09849</td>\n",
       "      <td>1.20826</td>\n",
       "      <td>5.87205</td>\n",
       "      <td>11.7645</td>\n",
       "      <td>73.5341</td>\n",
       "    </tr>\n",
       "    <tr>\n",
       "      <th>ZN</th>\n",
       "      <td>111.0</td>\n",
       "      <td>0.585586</td>\n",
       "      <td>3.125317</td>\n",
       "      <td>0.00000</td>\n",
       "      <td>0.00000</td>\n",
       "      <td>0.00000</td>\n",
       "      <td>0.0000</td>\n",
       "      <td>20.0000</td>\n",
       "    </tr>\n",
       "    <tr>\n",
       "      <th>INDUS</th>\n",
       "      <td>111.0</td>\n",
       "      <td>17.862342</td>\n",
       "      <td>4.606760</td>\n",
       "      <td>2.46000</td>\n",
       "      <td>18.10000</td>\n",
       "      <td>18.10000</td>\n",
       "      <td>19.5800</td>\n",
       "      <td>27.7400</td>\n",
       "    </tr>\n",
       "    <tr>\n",
       "      <th>CHAS</th>\n",
       "      <td>111.0</td>\n",
       "      <td>0.063063</td>\n",
       "      <td>0.244179</td>\n",
       "      <td>0.00000</td>\n",
       "      <td>0.00000</td>\n",
       "      <td>0.00000</td>\n",
       "      <td>0.0000</td>\n",
       "      <td>1.0000</td>\n",
       "    </tr>\n",
       "    <tr>\n",
       "      <th>NOX</th>\n",
       "      <td>111.0</td>\n",
       "      <td>0.664649</td>\n",
       "      <td>0.093411</td>\n",
       "      <td>0.44800</td>\n",
       "      <td>0.60500</td>\n",
       "      <td>0.65900</td>\n",
       "      <td>0.7000</td>\n",
       "      <td>0.8710</td>\n",
       "    </tr>\n",
       "    <tr>\n",
       "      <th>RM</th>\n",
       "      <td>111.0</td>\n",
       "      <td>5.940144</td>\n",
       "      <td>0.712860</td>\n",
       "      <td>3.86300</td>\n",
       "      <td>5.49400</td>\n",
       "      <td>6.00600</td>\n",
       "      <td>6.4030</td>\n",
       "      <td>7.9290</td>\n",
       "    </tr>\n",
       "    <tr>\n",
       "      <th>AGE</th>\n",
       "      <td>111.0</td>\n",
       "      <td>98.280180</td>\n",
       "      <td>1.657864</td>\n",
       "      <td>95.20000</td>\n",
       "      <td>96.95000</td>\n",
       "      <td>98.40000</td>\n",
       "      <td>100.0000</td>\n",
       "      <td>100.0000</td>\n",
       "    </tr>\n",
       "    <tr>\n",
       "      <th>DIS</th>\n",
       "      <td>111.0</td>\n",
       "      <td>1.999828</td>\n",
       "      <td>0.873839</td>\n",
       "      <td>1.13700</td>\n",
       "      <td>1.52335</td>\n",
       "      <td>1.80260</td>\n",
       "      <td>2.1088</td>\n",
       "      <td>6.0821</td>\n",
       "    </tr>\n",
       "    <tr>\n",
       "      <th>RAD</th>\n",
       "      <td>111.0</td>\n",
       "      <td>15.153153</td>\n",
       "      <td>9.832412</td>\n",
       "      <td>2.00000</td>\n",
       "      <td>5.00000</td>\n",
       "      <td>24.00000</td>\n",
       "      <td>24.0000</td>\n",
       "      <td>24.0000</td>\n",
       "    </tr>\n",
       "    <tr>\n",
       "      <th>TAX</th>\n",
       "      <td>111.0</td>\n",
       "      <td>541.459459</td>\n",
       "      <td>156.998482</td>\n",
       "      <td>188.00000</td>\n",
       "      <td>403.00000</td>\n",
       "      <td>666.00000</td>\n",
       "      <td>666.0000</td>\n",
       "      <td>711.0000</td>\n",
       "    </tr>\n",
       "    <tr>\n",
       "      <th>PTRATIO</th>\n",
       "      <td>111.0</td>\n",
       "      <td>19.127027</td>\n",
       "      <td>2.352868</td>\n",
       "      <td>13.00000</td>\n",
       "      <td>19.10000</td>\n",
       "      <td>20.20000</td>\n",
       "      <td>20.2000</td>\n",
       "      <td>21.2000</td>\n",
       "    </tr>\n",
       "    <tr>\n",
       "      <th>B</th>\n",
       "      <td>111.0</td>\n",
       "      <td>335.421351</td>\n",
       "      <td>105.865712</td>\n",
       "      <td>2.60000</td>\n",
       "      <td>331.06500</td>\n",
       "      <td>383.29000</td>\n",
       "      <td>396.9000</td>\n",
       "      <td>396.9000</td>\n",
       "    </tr>\n",
       "    <tr>\n",
       "      <th>LSTAT</th>\n",
       "      <td>111.0</td>\n",
       "      <td>19.174505</td>\n",
       "      <td>7.763716</td>\n",
       "      <td>1.92000</td>\n",
       "      <td>14.80500</td>\n",
       "      <td>19.15000</td>\n",
       "      <td>24.0900</td>\n",
       "      <td>37.9700</td>\n",
       "    </tr>\n",
       "    <tr>\n",
       "      <th>MEDV</th>\n",
       "      <td>111.0</td>\n",
       "      <td>17.563063</td>\n",
       "      <td>9.857226</td>\n",
       "      <td>5.00000</td>\n",
       "      <td>12.40000</td>\n",
       "      <td>15.10000</td>\n",
       "      <td>19.1500</td>\n",
       "      <td>50.0000</td>\n",
       "    </tr>\n",
       "  </tbody>\n",
       "</table>\n",
       "</div>"
      ],
      "text/plain": [
       "         count        mean         std        min        25%        50%  \\\n",
       "CRIM     111.0    9.131193   12.525663    0.09849    1.20826    5.87205   \n",
       "ZN       111.0    0.585586    3.125317    0.00000    0.00000    0.00000   \n",
       "INDUS    111.0   17.862342    4.606760    2.46000   18.10000   18.10000   \n",
       "CHAS     111.0    0.063063    0.244179    0.00000    0.00000    0.00000   \n",
       "NOX      111.0    0.664649    0.093411    0.44800    0.60500    0.65900   \n",
       "RM       111.0    5.940144    0.712860    3.86300    5.49400    6.00600   \n",
       "AGE      111.0   98.280180    1.657864   95.20000   96.95000   98.40000   \n",
       "DIS      111.0    1.999828    0.873839    1.13700    1.52335    1.80260   \n",
       "RAD      111.0   15.153153    9.832412    2.00000    5.00000   24.00000   \n",
       "TAX      111.0  541.459459  156.998482  188.00000  403.00000  666.00000   \n",
       "PTRATIO  111.0   19.127027    2.352868   13.00000   19.10000   20.20000   \n",
       "B        111.0  335.421351  105.865712    2.60000  331.06500  383.29000   \n",
       "LSTAT    111.0   19.174505    7.763716    1.92000   14.80500   19.15000   \n",
       "MEDV     111.0   17.563063    9.857226    5.00000   12.40000   15.10000   \n",
       "\n",
       "              75%       max  \n",
       "CRIM      11.7645   73.5341  \n",
       "ZN         0.0000   20.0000  \n",
       "INDUS     19.5800   27.7400  \n",
       "CHAS       0.0000    1.0000  \n",
       "NOX        0.7000    0.8710  \n",
       "RM         6.4030    7.9290  \n",
       "AGE      100.0000  100.0000  \n",
       "DIS        2.1088    6.0821  \n",
       "RAD       24.0000   24.0000  \n",
       "TAX      666.0000  711.0000  \n",
       "PTRATIO   20.2000   21.2000  \n",
       "B        396.9000  396.9000  \n",
       "LSTAT     24.0900   37.9700  \n",
       "MEDV      19.1500   50.0000  "
      ]
     },
     "execution_count": 305,
     "metadata": {},
     "output_type": "execute_result"
    }
   ],
   "source": [
    "# filter dataframe to show only even records\n",
    "df[df.index % 2 == 0]\n",
    "# filter dataframe to show only record with AGE greater than 95\n",
    "df[df['AGE'] > 95]\n",
    "# get statistical summary of the filtered table\n",
    "df[df['AGE'] > 95].describe().transpose()"
   ]
  },
  {
   "cell_type": "markdown",
   "metadata": {},
   "source": [
    "## [Back to Table of content](#back)"
   ]
  },
  {
   "cell_type": "markdown",
   "metadata": {},
   "source": [
    "# 5th step: Basic plotting using Seaborn and Matplotlib\n",
    "<a id =\"step5\" ></a>\n"
   ]
  },
  {
   "cell_type": "code",
   "execution_count": 306,
   "metadata": {},
   "outputs": [],
   "source": [
    "# Importing libraries for plotting graph:\n",
    "import matplotlib.pyplot as plt\n",
    "import seaborn as sns; sns.set()\n"
   ]
  },
  {
   "cell_type": "code",
   "execution_count": 334,
   "metadata": {},
   "outputs": [],
   "source": [
    "# load iris\n",
    "data = load_iris()\n",
    "# Load Features as X\n",
    "X = data.data\n",
    "# Load Target \n",
    "y = data.target\n",
    "# Feature column names\n",
    "cols = ['sepal length in cm','sepal width in cm','petal length in cm','petal width in cm']\n",
    "# creating DataFrame from Data features\n",
    "df = pd.DataFrame(X, columns= cols)\n",
    "# Adding target column \n",
    "df['species'] = y"
   ]
  },
  {
   "cell_type": "code",
   "execution_count": 322,
   "metadata": {},
   "outputs": [
    {
     "data": {
      "text/plain": [
       "<matplotlib.axes._subplots.AxesSubplot at 0x2cad93d1320>"
      ]
     },
     "execution_count": 322,
     "metadata": {},
     "output_type": "execute_result"
    },
    {
     "data": {
      "image/png": "[encoded data removed]",
      "text/plain": [
       "<Figure size 432x288 with 1 Axes>"
      ]
     },
     "metadata": {},
     "output_type": "display_data"
    }
   ],
   "source": [
    "# scatter plot\n",
    "sns.scatterplot(x='petal length in cm', y='petal width in cm', data=df)"
   ]
  },
  {
   "cell_type": "code",
   "execution_count": 323,
   "metadata": {},
   "outputs": [
    {
     "data": {
      "text/plain": [
       "<matplotlib.axes._subplots.AxesSubplot at 0x2cad94642b0>"
      ]
     },
     "execution_count": 323,
     "metadata": {},
     "output_type": "execute_result"
    },
    {
     "data": {
      "image/png": "[encoded data removed]",
      "text/plain": [
       "<Figure size 432x288 with 1 Axes>"
      ]
     },
     "metadata": {},
     "output_type": "display_data"
    }
   ],
   "source": [
    "# next, label the data points by color and add the legend with the hue argument:\n",
    "sns.scatterplot(x='petal length in cm', y='petal width in cm', \n",
    "                hue='species', data=df) "
   ]
  },
  {
   "cell_type": "code",
   "execution_count": 324,
   "metadata": {},
   "outputs": [
    {
     "data": {
      "text/plain": [
       "<seaborn.axisgrid.FacetGrid at 0x2cada4825f8>"
      ]
     },
     "execution_count": 324,
     "metadata": {},
     "output_type": "execute_result"
    },
    {
     "data": {
      "image/png": "[encoded data removed]",
      "text/plain": [
       "<Figure size 405.725x360 with 1 Axes>"
      ]
     },
     "metadata": {},
     "output_type": "display_data"
    }
   ],
   "source": [
    "# next, scatter plot points using lmplot with fit_reg=False and markers:\n",
    "sns.lmplot(x='petal length in cm', y='petal width in cm', \n",
    "           hue=\"species\", data=df, fit_reg=False,\n",
    "           palette='bright',markers=['o','x','v'])"
   ]
  },
  {
   "cell_type": "code",
   "execution_count": 325,
   "metadata": {},
   "outputs": [
    {
     "data": {
      "text/plain": [
       "<matplotlib.axes._subplots.AxesSubplot at 0x2cada4dbc88>"
      ]
     },
     "execution_count": 325,
     "metadata": {},
     "output_type": "execute_result"
    },
    {
     "data": {
      "image/png": "[encoded data removed]",
      "text/plain": [
       "<Figure size 432x288 with 1 Axes>"
      ]
     },
     "metadata": {},
     "output_type": "display_data"
    }
   ],
   "source": [
    "# Histograms with bell curve\n",
    "sns.distplot(df['petal length in cm'])\n"
   ]
  },
  {
   "cell_type": "code",
   "execution_count": 326,
   "metadata": {},
   "outputs": [
    {
     "data": {
      "text/plain": [
       "<matplotlib.axes._subplots.AxesSubplot at 0x2cada51cc50>"
      ]
     },
     "execution_count": 326,
     "metadata": {},
     "output_type": "execute_result"
    },
    {
     "data": {
      "image/png": "[encoded data removed]",
      "text/plain": [
       "<Figure size 432x288 with 1 Axes>"
      ]
     },
     "metadata": {},
     "output_type": "display_data"
    }
   ],
   "source": [
    "# histogram with 15 bins\n",
    "sns.distplot(df['petal length in cm'], bins=15)"
   ]
  },
  {
   "cell_type": "code",
   "execution_count": 327,
   "metadata": {},
   "outputs": [
    {
     "data": {
      "text/plain": [
       "<seaborn.axisgrid.JointGrid at 0x2cada4f7ac8>"
      ]
     },
     "execution_count": 327,
     "metadata": {},
     "output_type": "execute_result"
    },
    {
     "data": {
      "image/png": "[encoded data removed]",
      "text/plain": [
       "<Figure size 432x432 with 3 Axes>"
      ]
     },
     "metadata": {},
     "output_type": "display_data"
    }
   ],
   "source": [
    "# Jointplots\n",
    "sns.jointplot(x='petal length in cm', y='petal width in cm', \n",
    "              data=df, kind='scatter', marginal_kws=dict(bins=10))\n"
   ]
  },
  {
   "cell_type": "code",
   "execution_count": 328,
   "metadata": {},
   "outputs": [
    {
     "data": {
      "text/plain": [
       "<seaborn.axisgrid.JointGrid at 0x2cada6adf60>"
      ]
     },
     "execution_count": 328,
     "metadata": {},
     "output_type": "execute_result"
    },
    {
     "data": {
      "image/png": "[encoded data removed]",
      "text/plain": [
       "<Figure size 432x432 with 3 Axes>"
      ]
     },
     "metadata": {},
     "output_type": "display_data"
    }
   ],
   "source": [
    "# jointplot with kde\n",
    "sns.jointplot(x='petal length in cm', y='petal width in cm', \n",
    "              data=df, kind='kde')"
   ]
  },
  {
   "cell_type": "code",
   "execution_count": 329,
   "metadata": {},
   "outputs": [
    {
     "data": {
      "text/plain": [
       "<matplotlib.axes._subplots.AxesSubplot at 0x2cada77aac8>"
      ]
     },
     "execution_count": 329,
     "metadata": {},
     "output_type": "execute_result"
    },
    {
     "data": {
      "image/png": "[encoded data removed]",
      "text/plain": [
       "<Figure size 432x288 with 1 Axes>"
      ]
     },
     "metadata": {},
     "output_type": "display_data"
    }
   ],
   "source": [
    "# Violin plots\n",
    "# y='sepal width in cm'\n",
    "sns.violinplot(x='species',y='sepal width in cm', data=df)\n"
   ]
  },
  {
   "cell_type": "code",
   "execution_count": 330,
   "metadata": {},
   "outputs": [
    {
     "data": {
      "text/plain": [
       "<matplotlib.axes._subplots.AxesSubplot at 0x2cada74d630>"
      ]
     },
     "execution_count": 330,
     "metadata": {},
     "output_type": "execute_result"
    },
    {
     "data": {
      "image/png": "[encoded data removed]",
      "text/plain": [
       "<Figure size 432x288 with 1 Axes>"
      ]
     },
     "metadata": {},
     "output_type": "display_data"
    }
   ],
   "source": [
    "# y='petal width in cm'\n",
    "sns.violinplot(x='species',y='petal width in cm', data=df)"
   ]
  },
  {
   "cell_type": "code",
   "execution_count": 339,
   "metadata": {
    "scrolled": false
   },
   "outputs": [
    {
     "data": {
      "text/plain": [
       "<seaborn.axisgrid.PairGrid at 0x2cadbb706d8>"
      ]
     },
     "execution_count": 339,
     "metadata": {},
     "output_type": "execute_result"
    },
    {
     "data": {
      "image/png": "[encoded data removed]",
      "text/plain": [
       "<Figure size 720x720 with 20 Axes>"
      ]
     },
     "metadata": {},
     "output_type": "display_data"
    }
   ],
   "source": [
    "# pairplot with data feature columns\n",
    "vars_to_plot = cols\n",
    "\n",
    "sns.pairplot(data=df, vars=vars_to_plot)"
   ]
  },
  {
   "cell_type": "markdown",
   "metadata": {},
   "source": [
    "[Back to Table of content](#back)"
   ]
  },
  {
   "cell_type": "markdown",
   "metadata": {},
   "source": [
    "# 6th step: Dealing with Missing values\n",
    "<a id=\"step6\"></a>"
   ]
  },
  {
   "cell_type": "code",
   "execution_count": 340,
   "metadata": {},
   "outputs": [
    {
     "name": "stdout",
     "output_type": "stream",
     "text": [
      "        sepal length in cm  sepal width in cm  petal length in cm  \\\n",
      "record                                                              \n",
      "0                      NaN                3.5                 1.4   \n",
      "1                      4.9                3.0                 1.4   \n",
      "2                      NaN                3.2                 1.3   \n",
      "3                      4.6                3.1                 1.5   \n",
      "4                      5.0                3.6                 1.4   \n",
      "\n",
      "        petal width in cm species  \n",
      "record                             \n",
      "0                     0.2  setosa  \n",
      "1                     0.2  setosa  \n",
      "2                     0.2  setosa  \n",
      "3                     0.2  setosa  \n",
      "4                     0.2  setosa  \n"
     ]
    }
   ],
   "source": [
    "# load iris dataset with missing values with .isnull()\n",
    "import pandas as pd\n",
    "df = pd.read_csv(\"C:/Users/shrey/OneDrive/Desktop/Data Engineering/Data_Source/iris_missing_values.csv\")\n",
    "df.index.name = \"record\"\n",
    "print(df.head())"
   ]
  },
  {
   "cell_type": "code",
   "execution_count": 341,
   "metadata": {},
   "outputs": [
    {
     "data": {
      "text/plain": [
       "record\n",
       "0       True\n",
       "1      False\n",
       "2       True\n",
       "3      False\n",
       "4      False\n",
       "5       True\n",
       "6      False\n",
       "7      False\n",
       "8      False\n",
       "9       True\n",
       "10     False\n",
       "11     False\n",
       "12     False\n",
       "13     False\n",
       "14     False\n",
       "15      True\n",
       "16     False\n",
       "17     False\n",
       "18     False\n",
       "19     False\n",
       "20      True\n",
       "21     False\n",
       "22     False\n",
       "23     False\n",
       "24     False\n",
       "25     False\n",
       "26     False\n",
       "27     False\n",
       "28     False\n",
       "29     False\n",
       "       ...  \n",
       "120    False\n",
       "121    False\n",
       "122    False\n",
       "123    False\n",
       "124    False\n",
       "125    False\n",
       "126    False\n",
       "127    False\n",
       "128    False\n",
       "129    False\n",
       "130    False\n",
       "131    False\n",
       "132    False\n",
       "133    False\n",
       "134    False\n",
       "135    False\n",
       "136    False\n",
       "137    False\n",
       "138    False\n",
       "139    False\n",
       "140    False\n",
       "141    False\n",
       "142    False\n",
       "143    False\n",
       "144    False\n",
       "145    False\n",
       "146    False\n",
       "147    False\n",
       "148    False\n",
       "149    False\n",
       "Name: sepal length in cm, Length: 150, dtype: bool"
      ]
     },
     "execution_count": 341,
     "metadata": {},
     "output_type": "execute_result"
    }
   ],
   "source": [
    "# get boolean (True/False) response for each datapoint for NaNs \n",
    "df['sepal length in cm'].isnull()"
   ]
  },
  {
   "cell_type": "code",
   "execution_count": 342,
   "metadata": {},
   "outputs": [
    {
     "name": "stdout",
     "output_type": "stream",
     "text": [
      "True\n",
      "6\n"
     ]
    }
   ],
   "source": [
    "\n",
    "# check if any missing values in column\n",
    "print(df['sepal length in cm'].isnull().values.any())\n",
    "\n",
    "# get number of many missing values in column\n",
    "print(df['sepal length in cm'].isnull().values.sum())"
   ]
  },
  {
   "cell_type": "code",
   "execution_count": 345,
   "metadata": {},
   "outputs": [
    {
     "name": "stdout",
     "output_type": "stream",
     "text": [
      "record\n",
      "0    imputation\n",
      "1           4.9\n",
      "2    imputation\n",
      "3           4.6\n",
      "4             5\n",
      "Name: sepal length in cm, dtype: object\n"
     ]
    }
   ],
   "source": [
    "# replace missing values with new values (also called imputation method)\n",
    "df_example = df['sepal length in cm'].fillna('imputation')\n",
    "print(df_example.head())"
   ]
  },
  {
   "cell_type": "code",
   "execution_count": 349,
   "metadata": {},
   "outputs": [
    {
     "name": "stdout",
     "output_type": "stream",
     "text": [
      "Before dropping missing data rows or columns:  (150, 5)\n",
      "After dropping missing data rows  (144, 5)\n",
      "After dropping missing data columns  (150, 0)\n"
     ]
    }
   ],
   "source": [
    "# drop rows with missing data\n",
    "print(\"Before dropping missing data rows or columns: \", df.shape)\n",
    "df_dropped = df.dropna(axis=0)\n",
    "print(\"After dropping missing data rows \",df_dropped.shape)\n",
    "# we can also drop columns in a similar fashion:\n",
    "df_dropped = df.dropna(axis=1)\n",
    "print(\"After dropping missing data columns \",df_dropped.shape)"
   ]
  },
  {
   "cell_type": "code",
   "execution_count": 351,
   "metadata": {},
   "outputs": [],
   "source": [
    "# import imputer module from Scikit-learn and instantiate imputer object\n",
    "import numpy as np\n",
    "from sklearn.impute import SimpleImputer\n",
    "imputer = SimpleImputer(missing_values=np.nan, strategy='mean')"
   ]
  },
  {
   "cell_type": "code",
   "execution_count": 352,
   "metadata": {},
   "outputs": [],
   "source": [
    "#define columns to impute on\n",
    "cols = ['sepal length in cm',\n",
    "         'sepal width in cm',\n",
    "         'petal length in cm',\n",
    "         'petal width in cm',]"
   ]
  },
  {
   "cell_type": "code",
   "execution_count": 355,
   "metadata": {},
   "outputs": [
    {
     "name": "stdout",
     "output_type": "stream",
     "text": [
      "Imputed DataFrame:  (150, 5)\n"
     ]
    }
   ],
   "source": [
    "# fit imputer and transform dataset, store in df_new\n",
    "out_imp = imputer.fit_transform(df[cols])\n",
    "# Creating Dataframe of imputed output data\n",
    "df_new = pd.DataFrame(data = out_imp, columns = cols)\n",
    "# adding target column to the dataframe\n",
    "df_new = pd.concat([df_new, df[['species']]], axis = 1)\n",
    "print(\"Imputed DataFrame: \",df_new.shape)"
   ]
  },
  {
   "cell_type": "markdown",
   "metadata": {},
   "source": [
    "### Above we see complete dataset restored as imputation was done rather than removing"
   ]
  },
  {
   "cell_type": "markdown",
   "metadata": {},
   "source": [
    "## [Back to Table of content](#back)"
   ]
  },
  {
   "cell_type": "markdown",
   "metadata": {},
   "source": [
    "\n",
    "# 7th step: Scaling and Normalization\n",
    "- ### *The difference is that, in scaling, you're changing the range of your data while in normalization you're changing the shape of the distribution of your data.*\n",
    "<a id=\"step7\"></a>"
   ]
  },
  {
   "cell_type": "code",
   "execution_count": 356,
   "metadata": {},
   "outputs": [],
   "source": [
    "#loading the wine data\n",
    "data = load_wine()\n",
    "#converrting data arrays to Dataframe\n",
    "\n",
    "df = pd.DataFrame(data.data, columns=data.feature_names)\n",
    "# Wine data description\n",
    "df.index.name = \"record\""
   ]
  },
  {
   "cell_type": "code",
   "execution_count": 357,
   "metadata": {},
   "outputs": [],
   "source": [
    "# define columns to scale \n",
    "cols = data.feature_names"
   ]
  },
  {
   "cell_type": "markdown",
   "metadata": {},
   "source": [
    "### Min-Max normalization: *is one of the most popular scaling processes:*"
   ]
  },
  {
   "cell_type": "code",
   "execution_count": 358,
   "metadata": {},
   "outputs": [
    {
     "name": "stdout",
     "output_type": "stream",
     "text": [
      "Normalised Data Values: \n",
      " [[0.84210526 0.1916996  0.57219251 0.25773196 0.61956522 0.62758621\n",
      "  0.57383966 0.28301887 0.59305994 0.37201365 0.45528455 0.97069597\n",
      "  0.56134094]\n",
      " [0.57105263 0.2055336  0.4171123  0.03092784 0.32608696 0.57586207\n",
      "  0.51054852 0.24528302 0.27444795 0.26450512 0.46341463 0.78021978\n",
      "  0.55064194]\n",
      " [0.56052632 0.3201581  0.70053476 0.41237113 0.33695652 0.62758621\n",
      "  0.61181435 0.32075472 0.75709779 0.37542662 0.44715447 0.6959707\n",
      "  0.64693295]\n",
      " [0.87894737 0.23913043 0.60962567 0.31958763 0.4673913  0.98965517\n",
      "  0.66455696 0.20754717 0.55835962 0.55631399 0.30894309 0.7985348\n",
      "  0.85734665]\n",
      " [0.58157895 0.36561265 0.80748663 0.53608247 0.52173913 0.62758621\n",
      "  0.49578059 0.49056604 0.44479495 0.25938567 0.45528455 0.60805861\n",
      "  0.32596291]]\n"
     ]
    }
   ],
   "source": [
    "# load module and instantiate scaler object\n",
    "from sklearn.preprocessing import MinMaxScaler\n",
    "\n",
    "# Make object of MinMaxScaler model\n",
    "scaler = MinMaxScaler()\n",
    "\n",
    "# Normalize the data and store in out_scaled \n",
    "out_scaled = scaler.fit_transform(df[cols])\n",
    "# Preview of normalized values\n",
    "print(\"Normalised Data Values: \\n\",out_scaled[0:5])"
   ]
  },
  {
   "cell_type": "markdown",
   "metadata": {},
   "source": [
    "## Standardization: \n",
    "### *is another scaling process: it is used to put the variation within each feature space. Other values can be chosen for advanced standardization, but variance=1 and mean=0 are the most common.*"
   ]
  },
  {
   "cell_type": "code",
   "execution_count": 359,
   "metadata": {
    "scrolled": true
   },
   "outputs": [
    {
     "name": "stdout",
     "output_type": "stream",
     "text": [
      "Scaled Data Values: \n",
      " [[ 1.51861254 -0.5622498   0.23205254 -1.16959318  1.91390522  0.80899739\n",
      "   1.03481896 -0.65956311  1.22488398  0.25171685  0.36217728  1.84791957\n",
      "   1.01300893]\n",
      " [ 0.24628963 -0.49941338 -0.82799632 -2.49084714  0.01814502  0.56864766\n",
      "   0.73362894 -0.82071924 -0.54472099 -0.29332133  0.40605066  1.1134493\n",
      "   0.96524152]\n",
      " [ 0.19687903  0.02123125  1.10933436 -0.2687382   0.08835836  0.80899739\n",
      "   1.21553297 -0.49840699  2.13596773  0.26901965  0.31830389  0.78858745\n",
      "   1.39514818]\n",
      " [ 1.69154964 -0.34681064  0.4879264  -0.80925118  0.93091845  2.49144552\n",
      "   1.46652465 -0.98187536  1.03215473  1.18606801 -0.42754369  1.18407144\n",
      "   2.33457383]\n",
      " [ 0.29570023  0.22769377  1.84040254  0.45194578  1.28198515  0.80899739\n",
      "   0.66335127  0.22679555  0.40140444 -0.31927553  0.36217728  0.44960118\n",
      "  -0.03787401]]\n"
     ]
    }
   ],
   "source": [
    "# load module and instantiate scaler object\n",
    "from sklearn.preprocessing import StandardScaler\n",
    "scaler = StandardScaler()\n",
    "# standardize the data and store in out_scaled numpy array\n",
    "out_scaled_ = scaler.fit_transform(df[cols])\n",
    "# Preview of scaled values\n",
    "print(\"Scaled Data Values: \\n\",out_scaled_[0:5])"
   ]
  },
  {
   "cell_type": "markdown",
   "metadata": {},
   "source": [
    "## [Back to Table of content](#back)"
   ]
  },
  {
   "cell_type": "markdown",
   "metadata": {},
   "source": [
    "\n",
    "# 8th step: Categorical Data Encoding\n",
    "<a id=\"step8\"></a>"
   ]
  },
  {
   "cell_type": "code",
   "execution_count": 360,
   "metadata": {},
   "outputs": [],
   "source": [
    "# load example long jump dataset\n",
    "df = pd.read_csv(\"C:/Users/shrey/OneDrive/Desktop/Data Engineering/Data_Source/long_jump.csv\")\n",
    "df.set_index('Person', inplace=True)"
   ]
  },
  {
   "cell_type": "markdown",
   "metadata": {},
   "source": [
    "### Ordinal encoding:\n",
    "### *Ordinal variables have an order to them. Our examples from the long jump dataset are Jersey Size and Shoe Size.*"
   ]
  },
  {
   "cell_type": "code",
   "execution_count": 361,
   "metadata": {},
   "outputs": [
    {
     "name": "stdout",
     "output_type": "stream",
     "text": [
      "        Jersey Size  Shoe Size\n",
      "Person                        \n",
      "Thomas        small          7\n",
      "Jane         medium         10\n",
      "Vaughn        large         12\n",
      "Vera         medium          9\n",
      "Vincent       large         12\n",
      "Lei-Ann       small          7\n"
     ]
    }
   ],
   "source": [
    "# filter in categorical columns (\"cats\") for demonstration\n",
    "cats = ['Jersey Size', 'Shoe Size']\n",
    "print(df[cats])"
   ]
  },
  {
   "cell_type": "code",
   "execution_count": 362,
   "metadata": {},
   "outputs": [],
   "source": [
    "# import module and instantiate enc object\n",
    "from sklearn.preprocessing import OrdinalEncoder\n",
    "# Making object of Model\n",
    "enc = OrdinalEncoder()"
   ]
  },
  {
   "cell_type": "code",
   "execution_count": 363,
   "metadata": {},
   "outputs": [
    {
     "name": "stdout",
     "output_type": "stream",
     "text": [
      "identified categories: [array(['large', 'medium', 'small'], dtype=object), array([7, 9, 10, 12], dtype=object)]\n",
      "\n",
      " Encoded data:\n",
      " [[2. 0.]\n",
      " [1. 2.]\n",
      " [0. 3.]\n",
      " [1. 1.]\n",
      " [0. 3.]\n",
      " [2. 0.]]\n"
     ]
    }
   ],
   "source": [
    "# fit and transform in one call and print categories\n",
    "out_enc = enc.fit_transform(df[cats])\n",
    "# \n",
    "print('identified categories:',enc.categories_)\n",
    "print('\\n Encoded data:\\n',out_enc)\n"
   ]
  },
  {
   "cell_type": "markdown",
   "metadata": {},
   "source": [
    "# With the newly-encoded continuous features:"
   ]
  },
  {
   "cell_type": "code",
   "execution_count": 364,
   "metadata": {
    "scrolled": true
   },
   "outputs": [
    {
     "name": "stdout",
     "output_type": "stream",
     "text": [
      "         Age  Height  Weight  Training Hours/week Jersey Color  Jersey Size  \\\n",
      "Person                                                                        \n",
      "Thomas    12    57.5    73.4                  6.5         blue          2.0   \n",
      "Jane      13    65.5    85.3                  8.9        green          1.0   \n",
      "Vaughn    17    71.9   125.9                  1.1        green          0.0   \n",
      "Vera      14    65.3   100.5                  7.9          red          1.0   \n",
      "Vincent   18    70.1   110.7                 10.5         blue          0.0   \n",
      "\n",
      "         Shoe Size  Long Jump  \n",
      "Person                         \n",
      "Thomas         0.0       19.2  \n",
      "Jane           2.0       25.1  \n",
      "Vaughn         3.0       14.3  \n",
      "Vera           1.0       18.3  \n",
      "Vincent        3.0       21.1  \n"
     ]
    }
   ],
   "source": [
    "\n",
    "# overwrite categorical features in original dataframe\n",
    "df[cats] = out_enc\n",
    "print(df.head())"
   ]
  },
  {
   "cell_type": "markdown",
   "metadata": {},
   "source": [
    "## One-hot encoding:\n",
    "### *The one-hot technique emerged from the electronics field as a way to record the state of a machine by using simple binary methods (that is, 0's and 1's).* \n",
    "### *Significant shortcoming of one-hot encoding: non-extrapolation of new states not available in the source.*"
   ]
  },
  {
   "cell_type": "code",
   "execution_count": 365,
   "metadata": {},
   "outputs": [],
   "source": [
    "# import module and instantiate enc object\n",
    "from sklearn.preprocessing import OneHotEncoder\n",
    "enc = OneHotEncoder(sparse=False)"
   ]
  },
  {
   "cell_type": "code",
   "execution_count": 366,
   "metadata": {},
   "outputs": [
    {
     "name": "stdout",
     "output_type": "stream",
     "text": [
      "Column names : ['Jersey Size_0.0', 'Jersey Size_1.0', 'Jersey Size_2.0', 'Shoe Size_0.0', 'Shoe Size_1.0', 'Shoe Size_2.0', 'Shoe Size_3.0']\n"
     ]
    },
    {
     "name": "stderr",
     "output_type": "stream",
     "text": [
      "C:\\Users\\shrey\\AppData\\Local\\Continuum\\anaconda3\\lib\\site-packages\\sklearn\\preprocessing\\_encoders.py:368: FutureWarning: The handling of integer data will change in version 0.22. Currently, the categories are determined based on the range [0, max(values)], while in the future they will be determined based on the unique values.\n",
      "If you want the future behaviour and silence this warning, you can specify \"categories='auto'\".\n",
      "In case you used a LabelEncoder before this OneHotEncoder to convert the categories to integers, then you can now use the OneHotEncoder directly.\n",
      "  warnings.warn(msg, FutureWarning)\n"
     ]
    }
   ],
   "source": [
    "# fit and transform in one call and print categories\n",
    "out_enc = enc.fit_transform(df[cats])\n",
    "new_cols = enc.get_feature_names(cats).tolist()\n",
    "print(\"Column names :\",new_cols)"
   ]
  },
  {
   "cell_type": "code",
   "execution_count": 367,
   "metadata": {},
   "outputs": [],
   "source": [
    "# create temporary dataframe \"df_enc\" for concatenation with original data\n",
    "df_enc = pd.DataFrame(data = out_enc, columns = new_cols)\n",
    "df_enc.index = df.index\n"
   ]
  },
  {
   "cell_type": "code",
   "execution_count": 368,
   "metadata": {},
   "outputs": [
    {
     "name": "stdout",
     "output_type": "stream",
     "text": [
      "Index(['Age', 'Height', 'Weight', 'Training Hours/week', 'Jersey Color',\n",
      "       'Long Jump', 'Jersey Size_0.0', 'Jersey Size_1.0', 'Jersey Size_2.0',\n",
      "       'Shoe Size_0.0', 'Shoe Size_1.0', 'Shoe Size_2.0', 'Shoe Size_3.0'],\n",
      "      dtype='object')\n"
     ]
    }
   ],
   "source": [
    "# drop original columns and concat new encoded columns\n",
    "df.drop(cats, axis=1, inplace=True)\n",
    "df = pd.concat([df, df_enc], axis = 1)\n",
    "print(df.columns)"
   ]
  },
  {
   "cell_type": "markdown",
   "metadata": {},
   "source": [
    "### Label encoding:\n",
    "### *Often, the only column that needs encoding is the label or output column. For these situations, scikit-learn includes the simple LabelEncoder module that encodes a single column.*"
   ]
  },
  {
   "cell_type": "code",
   "execution_count": 369,
   "metadata": {},
   "outputs": [],
   "source": [
    "\n",
    "# import modules and instantiate enc object\n",
    "from sklearn import preprocessing\n",
    "enc = preprocessing.LabelEncoder()"
   ]
  },
  {
   "cell_type": "code",
   "execution_count": 370,
   "metadata": {},
   "outputs": [
    {
     "name": "stdout",
     "output_type": "stream",
     "text": [
      "[0 1 3 1 2 1 3]\n"
     ]
    }
   ],
   "source": [
    "# fit with integer labels and transform\n",
    "out_enc = enc.fit_transform([1, 2, 5, 2, 4, 2, 5])\n",
    "print(out_enc)"
   ]
  },
  {
   "cell_type": "code",
   "execution_count": 371,
   "metadata": {},
   "outputs": [
    {
     "name": "stdout",
     "output_type": "stream",
     "text": [
      "[0 2 0 1 2 2]\n"
     ]
    }
   ],
   "source": [
    "# fit with string labels and transform\n",
    "out_enc = enc.fit_transform([\"blue\", \"red\", \"blue\", \"green\", \"red\", \"red\"])\n",
    "print(out_enc)"
   ]
  },
  {
   "cell_type": "markdown",
   "metadata": {},
   "source": [
    "## [Back to Table of content](#back)"
   ]
  },
  {
   "cell_type": "markdown",
   "metadata": {},
   "source": [
    "# 9th step: Dimension Reduction\n",
    "<a id=\"step9\"></a>"
   ]
  },
  {
   "cell_type": "markdown",
   "metadata": {},
   "source": [
    "###  Due to the curse of dimensionality, a reduction of the number of  feature columns might be required before you can get any work done. \n",
    "### - There are two main strategies for reducing dimensions, as follows:\n",
    "1) Selection: Choose the best features and eliminate the others.\n",
    "2) Transformation: Create new features that summarize the combinations of the original ones.\n",
    "\n",
    "1) Selection: (1) feature filtering; or (2) wrapper methods. \n",
    "2) feature filtering: (i) variance threshold; or (ii) correlation coefficient.\n",
    "\n",
    "##  The variance threshold\n",
    " > 1 - Prefit with no threshold.\n",
    " 2 - Analyze the variances.\n",
    " 3 - Choose the threshold.\n",
    " 4 - Refit with the chosen threshold."
   ]
  },
  {
   "cell_type": "code",
   "execution_count": 372,
   "metadata": {},
   "outputs": [],
   "source": [
    "# Lets import wine dataset from sklearn\n",
    "from sklearn.datasets import load_wine\n"
   ]
  },
  {
   "cell_type": "code",
   "execution_count": 373,
   "metadata": {
    "scrolled": false
   },
   "outputs": [
    {
     "name": "stdout",
     "output_type": "stream",
     "text": [
      ".. _wine_dataset:\n",
      "\n",
      "Wine recognition dataset\n",
      "------------------------\n",
      "\n",
      "**Data Set Characteristics:**\n",
      "\n",
      "    :Number of Instances: 178 (50 in each of three classes)\n",
      "    :Number of Attributes: 13 numeric, predictive attributes and the class\n",
      "    :Attribute Information:\n",
      " \t\t- Alcohol\n",
      " \t\t- Malic acid\n",
      " \t\t- Ash\n",
      "\t\t- Alcalinity of ash  \n",
      " \t\t- Magnesium\n",
      "\t\t- Total phenols\n",
      " \t\t- Flavanoids\n",
      " \t\t- Nonflavanoid phenols\n",
      " \t\t- Proanthocyanins\n",
      "\t\t- Color intensity\n",
      " \t\t- Hue\n",
      " \t\t- OD280/OD315 of diluted wines\n",
      " \t\t- Proline\n",
      "\n",
      "    - class:\n",
      "            - class_0\n",
      "            - class_1\n",
      "            - class_2\n",
      "\t\t\n",
      "    :Summary Statistics:\n",
      "    \n",
      "    ============================= ==== ===== ======= =====\n",
      "                                   Min   Max   Mean     SD\n",
      "    ============================= ==== ===== ======= =====\n",
      "    Alcohol:                      11.0  14.8    13.0   0.8\n",
      "    Malic Acid:                   0.74  5.80    2.34  1.12\n",
      "    Ash:                          1.36  3.23    2.36  0.27\n",
      "    Alcalinity of Ash:            10.6  30.0    19.5   3.3\n",
      "    Magnesium:                    70.0 162.0    99.7  14.3\n",
      "    Total Phenols:                0.98  3.88    2.29  0.63\n",
      "    Flavanoids:                   0.34  5.08    2.03  1.00\n",
      "    Nonflavanoid Phenols:         0.13  0.66    0.36  0.12\n",
      "    Proanthocyanins:              0.41  3.58    1.59  0.57\n",
      "    Colour Intensity:              1.3  13.0     5.1   2.3\n",
      "    Hue:                          0.48  1.71    0.96  0.23\n",
      "    OD280/OD315 of diluted wines: 1.27  4.00    2.61  0.71\n",
      "    Proline:                       278  1680     746   315\n",
      "    ============================= ==== ===== ======= =====\n",
      "\n",
      "    :Missing Attribute Values: None\n",
      "    :Class Distribution: class_0 (59), class_1 (71), class_2 (48)\n",
      "    :Creator: R.A. Fisher\n",
      "    :Donor: Michael Marshall (MARSHALL%PLU@io.arc.nasa.gov)\n",
      "    :Date: July, 1988\n",
      "\n",
      "This is a copy of UCI ML Wine recognition datasets.\n",
      "https://archive.ics.uci.edu/ml/machine-learning-databases/wine/wine.data\n",
      "\n",
      "The data is the results of a chemical analysis of wines grown in the same\n",
      "region in Italy by three different cultivators. There are thirteen different\n",
      "measurements taken for different constituents found in the three types of\n",
      "wine.\n",
      "\n",
      "Original Owners: \n",
      "\n",
      "Forina, M. et al, PARVUS - \n",
      "An Extendible Package for Data Exploration, Classification and Correlation. \n",
      "Institute of Pharmaceutical and Food Analysis and Technologies,\n",
      "Via Brigata Salerno, 16147 Genoa, Italy.\n",
      "\n",
      "Citation:\n",
      "\n",
      "Lichman, M. (2013). UCI Machine Learning Repository\n",
      "[http://archive.ics.uci.edu/ml]. Irvine, CA: University of California,\n",
      "School of Information and Computer Science. \n",
      "\n",
      ".. topic:: References\n",
      "\n",
      "  (1) S. Aeberhard, D. Coomans and O. de Vel, \n",
      "  Comparison of Classifiers in High Dimensional Settings, \n",
      "  Tech. Rep. no. 92-02, (1992), Dept. of Computer Science and Dept. of  \n",
      "  Mathematics and Statistics, James Cook University of North Queensland. \n",
      "  (Also submitted to Technometrics). \n",
      "\n",
      "  The data was used with many others for comparing various \n",
      "  classifiers. The classes are separable, though only RDA \n",
      "  has achieved 100% correct classification. \n",
      "  (RDA : 100%, QDA 99.4%, LDA 98.9%, 1NN 96.1% (z-transformed data)) \n",
      "  (All results using the leave-one-out technique) \n",
      "\n",
      "  (2) S. Aeberhard, D. Coomans and O. de Vel, \n",
      "  \"THE CLASSIFICATION PERFORMANCE OF RDA\" \n",
      "  Tech. Rep. no. 92-01, (1992), Dept. of Computer Science and Dept. of \n",
      "  Mathematics and Statistics, James Cook University of North Queensland. \n",
      "  (Also submitted to Journal of Chemometrics).\n",
      "\n"
     ]
    }
   ],
   "source": [
    "#loading the wine data\n",
    "data = load_wine()\n",
    "# Wine data description\n",
    "print(data.DESCR)"
   ]
  },
  {
   "cell_type": "code",
   "execution_count": 374,
   "metadata": {},
   "outputs": [
    {
     "data": {
      "text/plain": [
       "array([0, 0, 0, 0, 0, 0, 0, 0, 0, 0, 0, 0, 0, 0, 0, 0, 0, 0, 0, 0, 0, 0,\n",
       "       0, 0, 0, 0, 0, 0, 0, 0, 0, 0, 0, 0, 0, 0, 0, 0, 0, 0, 0, 0, 0, 0,\n",
       "       0, 0, 0, 0, 0, 0, 0, 0, 0, 0, 0, 0, 0, 0, 0, 1, 1, 1, 1, 1, 1, 1,\n",
       "       1, 1, 1, 1, 1, 1, 1, 1, 1, 1, 1, 1, 1, 1, 1, 1, 1, 1, 1, 1, 1, 1,\n",
       "       1, 1, 1, 1, 1, 1, 1, 1, 1, 1, 1, 1, 1, 1, 1, 1, 1, 1, 1, 1, 1, 1,\n",
       "       1, 1, 1, 1, 1, 1, 1, 1, 1, 1, 1, 1, 1, 1, 1, 1, 1, 1, 1, 1, 2, 2,\n",
       "       2, 2, 2, 2, 2, 2, 2, 2, 2, 2, 2, 2, 2, 2, 2, 2, 2, 2, 2, 2, 2, 2,\n",
       "       2, 2, 2, 2, 2, 2, 2, 2, 2, 2, 2, 2, 2, 2, 2, 2, 2, 2, 2, 2, 2, 2,\n",
       "       2, 2])"
      ]
     },
     "execution_count": 374,
     "metadata": {},
     "output_type": "execute_result"
    }
   ],
   "source": [
    "data.target"
   ]
  },
  {
   "cell_type": "code",
   "execution_count": 375,
   "metadata": {},
   "outputs": [
    {
     "name": "stdout",
     "output_type": "stream",
     "text": [
      "Wine target class names: ['class_0' 'class_1' 'class_2']\n",
      "\n",
      " Wine features : ['alcohol', 'malic_acid', 'ash', 'alcalinity_of_ash', 'magnesium', 'total_phenols', 'flavanoids', 'nonflavanoid_phenols', 'proanthocyanins', 'color_intensity', 'hue', 'od280/od315_of_diluted_wines', 'proline']\n"
     ]
    }
   ],
   "source": [
    "x = data.data\n",
    "Y = data.target\n",
    "# Wine feature dataframe\n",
    "df = pd.DataFrame(x, columns=data.feature_names)\n",
    "# joining target column to feature dataframe\n",
    "df['Wine class'] = Y\n",
    "print(\"Wine target class names:\", data.target_names)\n",
    "print(\"\\n Wine features :\", data.feature_names)"
   ]
  },
  {
   "cell_type": "code",
   "execution_count": 376,
   "metadata": {},
   "outputs": [
    {
     "data": {
      "text/html": [
       "<div>\n",
       "<style scoped>\n",
       "    .dataframe tbody tr th:only-of-type {\n",
       "        vertical-align: middle;\n",
       "    }\n",
       "\n",
       "    .dataframe tbody tr th {\n",
       "        vertical-align: top;\n",
       "    }\n",
       "\n",
       "    .dataframe thead th {\n",
       "        text-align: right;\n",
       "    }\n",
       "</style>\n",
       "<table border=\"1\" class=\"dataframe\">\n",
       "  <thead>\n",
       "    <tr style=\"text-align: right;\">\n",
       "      <th></th>\n",
       "      <th>alcohol</th>\n",
       "      <th>malic_acid</th>\n",
       "      <th>ash</th>\n",
       "      <th>alcalinity_of_ash</th>\n",
       "      <th>magnesium</th>\n",
       "      <th>total_phenols</th>\n",
       "      <th>flavanoids</th>\n",
       "      <th>nonflavanoid_phenols</th>\n",
       "      <th>proanthocyanins</th>\n",
       "      <th>color_intensity</th>\n",
       "      <th>hue</th>\n",
       "      <th>od280/od315_of_diluted_wines</th>\n",
       "      <th>proline</th>\n",
       "      <th>Wine class</th>\n",
       "    </tr>\n",
       "  </thead>\n",
       "  <tbody>\n",
       "    <tr>\n",
       "      <th>173</th>\n",
       "      <td>13.71</td>\n",
       "      <td>5.65</td>\n",
       "      <td>2.45</td>\n",
       "      <td>20.5</td>\n",
       "      <td>95.0</td>\n",
       "      <td>1.68</td>\n",
       "      <td>0.61</td>\n",
       "      <td>0.52</td>\n",
       "      <td>1.06</td>\n",
       "      <td>7.7</td>\n",
       "      <td>0.64</td>\n",
       "      <td>1.74</td>\n",
       "      <td>740.0</td>\n",
       "      <td>2</td>\n",
       "    </tr>\n",
       "    <tr>\n",
       "      <th>174</th>\n",
       "      <td>13.40</td>\n",
       "      <td>3.91</td>\n",
       "      <td>2.48</td>\n",
       "      <td>23.0</td>\n",
       "      <td>102.0</td>\n",
       "      <td>1.80</td>\n",
       "      <td>0.75</td>\n",
       "      <td>0.43</td>\n",
       "      <td>1.41</td>\n",
       "      <td>7.3</td>\n",
       "      <td>0.70</td>\n",
       "      <td>1.56</td>\n",
       "      <td>750.0</td>\n",
       "      <td>2</td>\n",
       "    </tr>\n",
       "    <tr>\n",
       "      <th>175</th>\n",
       "      <td>13.27</td>\n",
       "      <td>4.28</td>\n",
       "      <td>2.26</td>\n",
       "      <td>20.0</td>\n",
       "      <td>120.0</td>\n",
       "      <td>1.59</td>\n",
       "      <td>0.69</td>\n",
       "      <td>0.43</td>\n",
       "      <td>1.35</td>\n",
       "      <td>10.2</td>\n",
       "      <td>0.59</td>\n",
       "      <td>1.56</td>\n",
       "      <td>835.0</td>\n",
       "      <td>2</td>\n",
       "    </tr>\n",
       "    <tr>\n",
       "      <th>176</th>\n",
       "      <td>13.17</td>\n",
       "      <td>2.59</td>\n",
       "      <td>2.37</td>\n",
       "      <td>20.0</td>\n",
       "      <td>120.0</td>\n",
       "      <td>1.65</td>\n",
       "      <td>0.68</td>\n",
       "      <td>0.53</td>\n",
       "      <td>1.46</td>\n",
       "      <td>9.3</td>\n",
       "      <td>0.60</td>\n",
       "      <td>1.62</td>\n",
       "      <td>840.0</td>\n",
       "      <td>2</td>\n",
       "    </tr>\n",
       "    <tr>\n",
       "      <th>177</th>\n",
       "      <td>14.13</td>\n",
       "      <td>4.10</td>\n",
       "      <td>2.74</td>\n",
       "      <td>24.5</td>\n",
       "      <td>96.0</td>\n",
       "      <td>2.05</td>\n",
       "      <td>0.76</td>\n",
       "      <td>0.56</td>\n",
       "      <td>1.35</td>\n",
       "      <td>9.2</td>\n",
       "      <td>0.61</td>\n",
       "      <td>1.60</td>\n",
       "      <td>560.0</td>\n",
       "      <td>2</td>\n",
       "    </tr>\n",
       "  </tbody>\n",
       "</table>\n",
       "</div>"
      ],
      "text/plain": [
       "     alcohol  malic_acid   ash  alcalinity_of_ash  magnesium  total_phenols  \\\n",
       "173    13.71        5.65  2.45               20.5       95.0           1.68   \n",
       "174    13.40        3.91  2.48               23.0      102.0           1.80   \n",
       "175    13.27        4.28  2.26               20.0      120.0           1.59   \n",
       "176    13.17        2.59  2.37               20.0      120.0           1.65   \n",
       "177    14.13        4.10  2.74               24.5       96.0           2.05   \n",
       "\n",
       "     flavanoids  nonflavanoid_phenols  proanthocyanins  color_intensity   hue  \\\n",
       "173        0.61                  0.52             1.06              7.7  0.64   \n",
       "174        0.75                  0.43             1.41              7.3  0.70   \n",
       "175        0.69                  0.43             1.35             10.2  0.59   \n",
       "176        0.68                  0.53             1.46              9.3  0.60   \n",
       "177        0.76                  0.56             1.35              9.2  0.61   \n",
       "\n",
       "     od280/od315_of_diluted_wines  proline  Wine class  \n",
       "173                          1.74    740.0           2  \n",
       "174                          1.56    750.0           2  \n",
       "175                          1.56    835.0           2  \n",
       "176                          1.62    840.0           2  \n",
       "177                          1.60    560.0           2  "
      ]
     },
     "execution_count": 376,
     "metadata": {},
     "output_type": "execute_result"
    }
   ],
   "source": [
    "#Summary of dataframe\n",
    "df.tail()"
   ]
  },
  {
   "cell_type": "code",
   "execution_count": 377,
   "metadata": {},
   "outputs": [],
   "source": [
    "# instantiate Scikit-learn object with no threshold\n",
    "from sklearn.feature_selection import VarianceThreshold\n",
    "# Make object of model\n",
    "selector = VarianceThreshold()\n"
   ]
  },
  {
   "cell_type": "code",
   "execution_count": 378,
   "metadata": {},
   "outputs": [],
   "source": [
    "# Feature column names\n",
    "cols = data.feature_names"
   ]
  },
  {
   "cell_type": "code",
   "execution_count": 379,
   "metadata": {},
   "outputs": [
    {
     "data": {
      "text/plain": [
       "VarianceThreshold(threshold=0.0)"
      ]
     },
     "execution_count": 379,
     "metadata": {},
     "output_type": "execute_result"
    }
   ],
   "source": [
    "# prefit object with df[cols]\n",
    "selector.fit(df[cols])"
   ]
  },
  {
   "cell_type": "code",
   "execution_count": 380,
   "metadata": {},
   "outputs": [
    {
     "name": "stdout",
     "output_type": "stream",
     "text": [
      "[6.55359730e-01 1.24100408e+00 7.48418003e-02 1.10900306e+01\n",
      " 2.02843328e+02 3.89489032e-01 9.92113512e-01 1.54016191e-02\n",
      " 3.25754248e-01 5.34425585e+00 5.19514497e-02 5.01254463e-01\n",
      " 9.86096010e+04]\n"
     ]
    }
   ],
   "source": [
    "# check feature variances before selection\n",
    "print(selector.variances_)"
   ]
  },
  {
   "cell_type": "markdown",
   "metadata": {},
   "source": [
    "- ###  For demonstration purposes, we will choose 0.6 as the threshold and then refit. "
   ]
  },
  {
   "cell_type": "code",
   "execution_count": 381,
   "metadata": {},
   "outputs": [
    {
     "data": {
      "text/plain": [
       "VarianceThreshold(threshold=0.6)"
      ]
     },
     "execution_count": 381,
     "metadata": {},
     "output_type": "execute_result"
    }
   ],
   "source": [
    "# set threshold into selector object\n",
    "selector.set_params(threshold=0.6)"
   ]
  },
  {
   "cell_type": "code",
   "execution_count": 382,
   "metadata": {},
   "outputs": [
    {
     "name": "stdout",
     "output_type": "stream",
     "text": [
      "[ True  True False  True  True False  True False False  True False False\n",
      "  True]\n"
     ]
    }
   ],
   "source": [
    "# refit and transform, store output in out_sel\n",
    "out_sel = selector.fit_transform(df[cols])\n",
    "# check which features were chosen\n",
    "print(selector.get_support())"
   ]
  },
  {
   "cell_type": "code",
   "execution_count": 383,
   "metadata": {},
   "outputs": [
    {
     "name": "stdout",
     "output_type": "stream",
     "text": [
      "   alcohol  malic_acid  alcalinity_of_ash  magnesium  flavanoids  \\\n",
      "0    14.23        1.71               15.6      127.0        3.06   \n",
      "1    13.20        1.78               11.2      100.0        2.76   \n",
      "2    13.16        2.36               18.6      101.0        3.24   \n",
      "3    14.37        1.95               16.8      113.0        3.49   \n",
      "4    13.24        2.59               21.0      118.0        2.69   \n",
      "\n",
      "   color_intensity  proline  Wine class  \n",
      "0             5.64   1065.0           0  \n",
      "1             4.38   1050.0           0  \n",
      "2             5.68   1185.0           0  \n",
      "3             7.80   1480.0           0  \n",
      "4             4.32    735.0           0  \n"
     ]
    }
   ],
   "source": [
    "# filter in the selected features\n",
    "df_sel = df.iloc[:, selector.get_support()]\n",
    "# add labels to new dataframe and sanity check\n",
    "df_sel = pd.concat([df_sel, df[['Wine class']]], axis = 1)\n",
    "print(df_sel.head())"
   ]
  },
  {
   "cell_type": "code",
   "execution_count": 384,
   "metadata": {
    "scrolled": true
   },
   "outputs": [
    {
     "name": "stdout",
     "output_type": "stream",
     "text": [
      "Dataframe shape after selection : (178, 8)\n",
      "Dataframe shape Before selection : (178, 14)\n"
     ]
    }
   ],
   "source": [
    "print(\"Dataframe shape after selection :\",df_sel.shape)\n",
    "print(\"Dataframe shape Before selection :\", df.shape)"
   ]
  },
  {
   "cell_type": "markdown",
   "metadata": {},
   "source": [
    "## The correlation coefficient:\n",
    "> Lets use the Wine dataset with this method as well"
   ]
  },
  {
   "cell_type": "code",
   "execution_count": 385,
   "metadata": {},
   "outputs": [],
   "source": [
    "# import matplotlib for access to color maps\n",
    "import matplotlib.pyplot as plt\n"
   ]
  },
  {
   "cell_type": "code",
   "execution_count": 386,
   "metadata": {},
   "outputs": [
    {
     "data": {
      "image/png": "[encoded data removed]",
      "text/plain": [
       "<Figure size 432x288 with 2 Axes>"
      ]
     },
     "metadata": {},
     "output_type": "display_data"
    }
   ],
   "source": [
    "# find correlation with pandas \".corr()\"\n",
    "cor = df.corr()\n",
    "# visualize with Seaborn heat map, color map = Blues\n",
    "sns.heatmap(cor, annot=False, cmap=plt.cm.Blues)\n",
    "plt.show()\n"
   ]
  },
  {
   "cell_type": "code",
   "execution_count": 387,
   "metadata": {
    "scrolled": true
   },
   "outputs": [
    {
     "name": "stdout",
     "output_type": "stream",
     "text": [
      "alcohol                         0.328222\n",
      "malic_acid                      0.437776\n",
      "ash                             0.049643\n",
      "alcalinity_of_ash               0.517859\n",
      "magnesium                       0.209179\n",
      "total_phenols                   0.719163\n",
      "flavanoids                      0.847498\n",
      "nonflavanoid_phenols            0.489109\n",
      "proanthocyanins                 0.499130\n",
      "color_intensity                 0.265668\n",
      "hue                             0.617369\n",
      "od280/od315_of_diluted_wines    0.788230\n",
      "proline                         0.633717\n",
      "Wine class                      1.000000\n",
      "Name: Wine class, dtype: float64\n"
     ]
    }
   ],
   "source": [
    "# get correlation values with target variable\n",
    "cor_target = abs(cor['Wine class'])\n",
    "print(cor_target)\n"
   ]
  },
  {
   "cell_type": "markdown",
   "metadata": {},
   "source": [
    "> ### For demonstration purposes, we will choose 0.6 as the threshold and then filter."
   ]
  },
  {
   "cell_type": "code",
   "execution_count": 388,
   "metadata": {},
   "outputs": [
    {
     "name": "stdout",
     "output_type": "stream",
     "text": [
      "selected columns, correlation with target > 0.6\n",
      "total_phenols                   0.719163\n",
      "flavanoids                      0.847498\n",
      "hue                             0.617369\n",
      "od280/od315_of_diluted_wines    0.788230\n",
      "proline                         0.633717\n",
      "Wine class                      1.000000\n",
      "Name: Wine class, dtype: float64\n",
      "   total_phenols  flavanoids   hue  od280/od315_of_diluted_wines  proline  \\\n",
      "0           2.80        3.06  1.04                          3.92   1065.0   \n",
      "1           2.65        2.76  1.05                          3.40   1050.0   \n",
      "2           2.80        3.24  1.03                          3.17   1185.0   \n",
      "3           3.85        3.49  0.86                          3.45   1480.0   \n",
      "4           2.80        2.69  1.04                          2.93    735.0   \n",
      "\n",
      "   Wine class  \n",
      "0           0  \n",
      "1           0  \n",
      "2           0  \n",
      "3           0  \n",
      "4           0  \n",
      "\n",
      "Dataframe shape after selection : (178, 6)\n",
      "\n",
      "Dataframe shape Before selection : (178, 14)\n"
     ]
    }
   ],
   "source": [
    "#Select columns with correlation above 0.6\n",
    "selected_cols = cor_target[cor_target>0.6]\n",
    "print(\"selected columns, correlation with target > 0.6\")\n",
    "print(selected_cols)\n",
    "# filter in the selected features\n",
    "df_sel = df[selected_cols.index]\n",
    "print(df_sel.head())\n",
    "print(\"\\nDataframe shape after selection :\",df_sel.shape)\n",
    "print(\"\\nDataframe shape Before selection :\", df.shape)"
   ]
  },
  {
   "cell_type": "markdown",
   "metadata": {},
   "source": [
    "## (2) wrapper methods: \n",
    "### *If we are willing to use the prediction algorithm's automatic scoring (sequential feature selection), scikit-learn has a built-in method called recursive feature elimination (RFE).*\n",
    "\n",
    "- We will again use the wine dataset for the consistency"
   ]
  },
  {
   "cell_type": "code",
   "execution_count": 389,
   "metadata": {},
   "outputs": [],
   "source": [
    "#loading the wine data\n",
    "data = load_wine()\n",
    "# Wine data description\n",
    "#print(data.DESCR)\n",
    "X = data.data\n",
    "y = data.target"
   ]
  },
  {
   "cell_type": "markdown",
   "metadata": {},
   "source": [
    "### *We will use the support vector machine classifier (SVC) as the estimator for our example RFE. Now, let's import our modules and define the independent (X) and dependent (y) variables for the SVC object:*"
   ]
  },
  {
   "cell_type": "code",
   "execution_count": 390,
   "metadata": {},
   "outputs": [],
   "source": [
    "# load modules for RFE and the classifier SVC\n",
    "from sklearn.feature_selection import RFE\n",
    "from sklearn.svm import SVC"
   ]
  },
  {
   "cell_type": "markdown",
   "metadata": {},
   "source": [
    "### *Next, we will instantiate both the RFE and SVC object, and pass the SVC object as an argument into RFE. We will use the n_features_to_select arg to choose the number of output features (2, in this case). Then, we fit and check the feature rankings with RFE's ranking_ attribute, as follows:*"
   ]
  },
  {
   "cell_type": "code",
   "execution_count": 391,
   "metadata": {},
   "outputs": [
    {
     "data": {
      "text/plain": [
       "RFE(estimator=SVC(C=1, cache_size=200, class_weight=None, coef0=0.0,\n",
       "  decision_function_shape='ovr', degree=3, gamma='auto_deprecated',\n",
       "  kernel='linear', max_iter=-1, probability=False, random_state=None,\n",
       "  shrinking=True, tol=0.001, verbose=False),\n",
       "  n_features_to_select=2, step=1, verbose=0)"
      ]
     },
     "execution_count": 391,
     "metadata": {},
     "output_type": "execute_result"
    }
   ],
   "source": [
    "# Create the RFE object and rank each pixel\n",
    "svc = SVC(kernel=\"linear\", C=1)\n",
    "rfe = RFE(estimator=svc, n_features_to_select=2, step=1)\n",
    "rfe.fit(X, y)"
   ]
  },
  {
   "cell_type": "code",
   "execution_count": 392,
   "metadata": {},
   "outputs": [
    {
     "name": "stdout",
     "output_type": "stream",
     "text": [
      "['alcohol', 'malic_acid', 'ash', 'alcalinity_of_ash', 'magnesium', 'total_phenols', 'flavanoids', 'nonflavanoid_phenols', 'proanthocyanins', 'color_intensity', 'hue', 'od280/od315_of_diluted_wines', 'proline']\n",
      "[ 1  7  3  8 11  6  1  4  9  5 10  2 12]\n"
     ]
    }
   ],
   "source": [
    "# print rankings of the columns\n",
    "print(cols)\n",
    "print(rfe.ranking_)"
   ]
  },
  {
   "cell_type": "markdown",
   "metadata": {},
   "source": [
    "## Transformation: \n",
    "### *This strategy chooses a few new dimensions, or feature vectors, to project the original data into. There are two common mathematical methods, both of which are fully deterministic and targeted at either the supervised or unsupervised case.*\n",
    "\n",
    "> We will continue to use wine dataset for easy understanding "
   ]
  },
  {
   "cell_type": "code",
   "execution_count": 393,
   "metadata": {},
   "outputs": [],
   "source": [
    "# instantiate pca object with 2 output dimensions\n",
    "from sklearn.decomposition import PCA"
   ]
  },
  {
   "cell_type": "code",
   "execution_count": 394,
   "metadata": {},
   "outputs": [],
   "source": [
    "#loading the wine data\n",
    "data = load_wine()\n",
    "# Assigning Features and target to a variable\n",
    "X = data.data\n",
    "y = data.target"
   ]
  },
  {
   "cell_type": "code",
   "execution_count": 395,
   "metadata": {},
   "outputs": [],
   "source": [
    "# COnverting features to Dataframe\n",
    "df = pd.DataFrame(X, columns = data.feature_names)\n",
    "# Adding target to the Feature Dataframe \n",
    "df[\"Wine Class\"] = y"
   ]
  },
  {
   "cell_type": "code",
   "execution_count": 396,
   "metadata": {},
   "outputs": [
    {
     "data": {
      "text/html": [
       "<div>\n",
       "<style scoped>\n",
       "    .dataframe tbody tr th:only-of-type {\n",
       "        vertical-align: middle;\n",
       "    }\n",
       "\n",
       "    .dataframe tbody tr th {\n",
       "        vertical-align: top;\n",
       "    }\n",
       "\n",
       "    .dataframe thead th {\n",
       "        text-align: right;\n",
       "    }\n",
       "</style>\n",
       "<table border=\"1\" class=\"dataframe\">\n",
       "  <thead>\n",
       "    <tr style=\"text-align: right;\">\n",
       "      <th></th>\n",
       "      <th>alcohol</th>\n",
       "      <th>malic_acid</th>\n",
       "      <th>ash</th>\n",
       "      <th>alcalinity_of_ash</th>\n",
       "      <th>magnesium</th>\n",
       "      <th>total_phenols</th>\n",
       "      <th>flavanoids</th>\n",
       "      <th>nonflavanoid_phenols</th>\n",
       "      <th>proanthocyanins</th>\n",
       "      <th>color_intensity</th>\n",
       "      <th>hue</th>\n",
       "      <th>od280/od315_of_diluted_wines</th>\n",
       "      <th>proline</th>\n",
       "      <th>Wine Class</th>\n",
       "    </tr>\n",
       "  </thead>\n",
       "  <tbody>\n",
       "    <tr>\n",
       "      <th>0</th>\n",
       "      <td>14.23</td>\n",
       "      <td>1.71</td>\n",
       "      <td>2.43</td>\n",
       "      <td>15.6</td>\n",
       "      <td>127.0</td>\n",
       "      <td>2.80</td>\n",
       "      <td>3.06</td>\n",
       "      <td>0.28</td>\n",
       "      <td>2.29</td>\n",
       "      <td>5.64</td>\n",
       "      <td>1.04</td>\n",
       "      <td>3.92</td>\n",
       "      <td>1065.0</td>\n",
       "      <td>0</td>\n",
       "    </tr>\n",
       "    <tr>\n",
       "      <th>1</th>\n",
       "      <td>13.20</td>\n",
       "      <td>1.78</td>\n",
       "      <td>2.14</td>\n",
       "      <td>11.2</td>\n",
       "      <td>100.0</td>\n",
       "      <td>2.65</td>\n",
       "      <td>2.76</td>\n",
       "      <td>0.26</td>\n",
       "      <td>1.28</td>\n",
       "      <td>4.38</td>\n",
       "      <td>1.05</td>\n",
       "      <td>3.40</td>\n",
       "      <td>1050.0</td>\n",
       "      <td>0</td>\n",
       "    </tr>\n",
       "    <tr>\n",
       "      <th>2</th>\n",
       "      <td>13.16</td>\n",
       "      <td>2.36</td>\n",
       "      <td>2.67</td>\n",
       "      <td>18.6</td>\n",
       "      <td>101.0</td>\n",
       "      <td>2.80</td>\n",
       "      <td>3.24</td>\n",
       "      <td>0.30</td>\n",
       "      <td>2.81</td>\n",
       "      <td>5.68</td>\n",
       "      <td>1.03</td>\n",
       "      <td>3.17</td>\n",
       "      <td>1185.0</td>\n",
       "      <td>0</td>\n",
       "    </tr>\n",
       "    <tr>\n",
       "      <th>3</th>\n",
       "      <td>14.37</td>\n",
       "      <td>1.95</td>\n",
       "      <td>2.50</td>\n",
       "      <td>16.8</td>\n",
       "      <td>113.0</td>\n",
       "      <td>3.85</td>\n",
       "      <td>3.49</td>\n",
       "      <td>0.24</td>\n",
       "      <td>2.18</td>\n",
       "      <td>7.80</td>\n",
       "      <td>0.86</td>\n",
       "      <td>3.45</td>\n",
       "      <td>1480.0</td>\n",
       "      <td>0</td>\n",
       "    </tr>\n",
       "    <tr>\n",
       "      <th>4</th>\n",
       "      <td>13.24</td>\n",
       "      <td>2.59</td>\n",
       "      <td>2.87</td>\n",
       "      <td>21.0</td>\n",
       "      <td>118.0</td>\n",
       "      <td>2.80</td>\n",
       "      <td>2.69</td>\n",
       "      <td>0.39</td>\n",
       "      <td>1.82</td>\n",
       "      <td>4.32</td>\n",
       "      <td>1.04</td>\n",
       "      <td>2.93</td>\n",
       "      <td>735.0</td>\n",
       "      <td>0</td>\n",
       "    </tr>\n",
       "  </tbody>\n",
       "</table>\n",
       "</div>"
      ],
      "text/plain": [
       "   alcohol  malic_acid   ash  alcalinity_of_ash  magnesium  total_phenols  \\\n",
       "0    14.23        1.71  2.43               15.6      127.0           2.80   \n",
       "1    13.20        1.78  2.14               11.2      100.0           2.65   \n",
       "2    13.16        2.36  2.67               18.6      101.0           2.80   \n",
       "3    14.37        1.95  2.50               16.8      113.0           3.85   \n",
       "4    13.24        2.59  2.87               21.0      118.0           2.80   \n",
       "\n",
       "   flavanoids  nonflavanoid_phenols  proanthocyanins  color_intensity   hue  \\\n",
       "0        3.06                  0.28             2.29             5.64  1.04   \n",
       "1        2.76                  0.26             1.28             4.38  1.05   \n",
       "2        3.24                  0.30             2.81             5.68  1.03   \n",
       "3        3.49                  0.24             2.18             7.80  0.86   \n",
       "4        2.69                  0.39             1.82             4.32  1.04   \n",
       "\n",
       "   od280/od315_of_diluted_wines  proline  Wine Class  \n",
       "0                          3.92   1065.0           0  \n",
       "1                          3.40   1050.0           0  \n",
       "2                          3.17   1185.0           0  \n",
       "3                          3.45   1480.0           0  \n",
       "4                          2.93    735.0           0  "
      ]
     },
     "execution_count": 396,
     "metadata": {},
     "output_type": "execute_result"
    }
   ],
   "source": [
    "cols = data.feature_names\n",
    "df.head()"
   ]
  },
  {
   "cell_type": "code",
   "execution_count": 397,
   "metadata": {},
   "outputs": [],
   "source": [
    "# Making object of pca model with n_component of 2\n",
    "pca = PCA(n_components=2)\n",
    "# fit and transform using 13 input dimensions\n",
    "out_pca = pca.fit_transform(df[cols])"
   ]
  },
  {
   "cell_type": "code",
   "execution_count": 398,
   "metadata": {},
   "outputs": [
    {
     "name": "stdout",
     "output_type": "stream",
     "text": [
      "Feature shape after PCA reduction: (178, 2)\n",
      "Feature shape Before PCA reduction: (178, 13)\n"
     ]
    }
   ],
   "source": [
    "print(\"Feature shape after PCA reduction:\",out_pca.shape)\n",
    "print(\"Feature shape Before PCA reduction:\",X.shape)"
   ]
  },
  {
   "cell_type": "code",
   "execution_count": 399,
   "metadata": {
    "scrolled": false
   },
   "outputs": [
    {
     "data": {
      "text/plain": [
       "<seaborn.axisgrid.FacetGrid at 0x2cadd857cf8>"
      ]
     },
     "execution_count": 399,
     "metadata": {},
     "output_type": "execute_result"
    },
    {
     "data": {
      "image/png": "[encoded data removed]",
      "text/plain": [
       "<Figure size 420.3x360 with 1 Axes>"
      ]
     },
     "metadata": {},
     "output_type": "display_data"
    }
   ],
   "source": [
    "# create pca output dataframe and add label column \"Wine Class\" \n",
    "df_pca = pd.DataFrame(data = out_pca, columns = ['pca1', 'pca2'])\n",
    "# Combining Target with the PCA output features\n",
    "df_pca = pd.concat([df_pca, df[['Wine Class']]], axis = 1)\n",
    "# plot scatter of pca data\n",
    "sns.lmplot(x='pca1', y='pca2', hue='Wine Class', data=df_pca, fit_reg=False)"
   ]
  },
  {
   "cell_type": "markdown",
   "metadata": {},
   "source": [
    "## We reduced 13 features to 2 PCA features and below is the explained variance by each PCA columns for those 13 features "
   ]
  },
  {
   "cell_type": "code",
   "execution_count": 400,
   "metadata": {},
   "outputs": [
    {
     "name": "stdout",
     "output_type": "stream",
     "text": [
      "[0.99809123 0.00173592]\n"
     ]
    }
   ],
   "source": [
    "# get variance explained by each component\n",
    "print(pca.explained_variance_ratio_)"
   ]
  },
  {
   "cell_type": "markdown",
   "metadata": {},
   "source": [
    "## [Back to Table of content](#back)"
   ]
  },
  {
   "cell_type": "code",
   "execution_count": null,
   "metadata": {},
   "outputs": [],
   "source": []
  }
 ],
 "metadata": {
  "kernelspec": {
   "display_name": "Python 3",
   "language": "python",
   "name": "python3"
  },
  "language_info": {
   "codemirror_mode": {
    "name": "ipython",
    "version": 3
   },
   "file_extension": ".py",
   "mimetype": "text/x-python",
   "name": "python",
   "nbconvert_exporter": "python",
   "pygments_lexer": "ipython3",
   "version": "3.7.1"
  }
 },
 "nbformat": 4,
 "nbformat_minor": 2
}
